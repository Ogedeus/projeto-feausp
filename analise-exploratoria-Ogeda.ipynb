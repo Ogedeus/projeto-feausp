{
 "cells": [
  {
   "cell_type": "code",
   "execution_count": 1,
   "id": "ba3cbe27",
   "metadata": {
    "execution": {
     "iopub.execute_input": "2022-09-26T16:01:05.610589Z",
     "iopub.status.busy": "2022-09-26T16:01:05.609858Z",
     "iopub.status.idle": "2022-09-26T16:01:06.719372Z",
     "shell.execute_reply": "2022-09-26T16:01:06.718170Z"
    },
    "papermill": {
     "duration": 1.125017,
     "end_time": "2022-09-26T16:01:06.722293",
     "exception": false,
     "start_time": "2022-09-26T16:01:05.597276",
     "status": "completed"
    },
    "tags": []
   },
   "outputs": [
    {
     "name": "stderr",
     "output_type": "stream",
     "text": [
      "/opt/conda/lib/python3.7/site-packages/IPython/core/interactiveshell.py:3552: DtypeWarning: Columns (0) have mixed types.Specify dtype option on import or set low_memory=False.\n",
      "  exec(code_obj, self.user_global_ns, self.user_ns)\n"
     ]
    }
   ],
   "source": [
    "import pandas as pd\n",
    "from datetime import datetime\n",
    "\n",
    "df = pd.read_csv('../input/market-basket-analysis/Assignment-1_Data.csv',sep=';')"
   ]
  },
  {
   "cell_type": "code",
   "execution_count": 2,
   "id": "1e272830",
   "metadata": {
    "execution": {
     "iopub.execute_input": "2022-09-26T16:01:06.742624Z",
     "iopub.status.busy": "2022-09-26T16:01:06.742230Z",
     "iopub.status.idle": "2022-09-26T16:01:06.765118Z",
     "shell.execute_reply": "2022-09-26T16:01:06.764017Z"
    },
    "papermill": {
     "duration": 0.035254,
     "end_time": "2022-09-26T16:01:06.767172",
     "exception": false,
     "start_time": "2022-09-26T16:01:06.731918",
     "status": "completed"
    },
    "tags": []
   },
   "outputs": [
    {
     "data": {
      "text/html": [
       "<div>\n",
       "<style scoped>\n",
       "    .dataframe tbody tr th:only-of-type {\n",
       "        vertical-align: middle;\n",
       "    }\n",
       "\n",
       "    .dataframe tbody tr th {\n",
       "        vertical-align: top;\n",
       "    }\n",
       "\n",
       "    .dataframe thead th {\n",
       "        text-align: right;\n",
       "    }\n",
       "</style>\n",
       "<table border=\"1\" class=\"dataframe\">\n",
       "  <thead>\n",
       "    <tr style=\"text-align: right;\">\n",
       "      <th></th>\n",
       "      <th>BillNo</th>\n",
       "      <th>Itemname</th>\n",
       "      <th>Quantity</th>\n",
       "      <th>Date</th>\n",
       "      <th>Price</th>\n",
       "      <th>CustomerID</th>\n",
       "      <th>Country</th>\n",
       "    </tr>\n",
       "  </thead>\n",
       "  <tbody>\n",
       "    <tr>\n",
       "      <th>0</th>\n",
       "      <td>536365</td>\n",
       "      <td>WHITE HANGING HEART T-LIGHT HOLDER</td>\n",
       "      <td>6</td>\n",
       "      <td>01.12.2010 08:26</td>\n",
       "      <td>2,55</td>\n",
       "      <td>17850.0</td>\n",
       "      <td>United Kingdom</td>\n",
       "    </tr>\n",
       "    <tr>\n",
       "      <th>1</th>\n",
       "      <td>536365</td>\n",
       "      <td>WHITE METAL LANTERN</td>\n",
       "      <td>6</td>\n",
       "      <td>01.12.2010 08:26</td>\n",
       "      <td>3,39</td>\n",
       "      <td>17850.0</td>\n",
       "      <td>United Kingdom</td>\n",
       "    </tr>\n",
       "    <tr>\n",
       "      <th>2</th>\n",
       "      <td>536365</td>\n",
       "      <td>CREAM CUPID HEARTS COAT HANGER</td>\n",
       "      <td>8</td>\n",
       "      <td>01.12.2010 08:26</td>\n",
       "      <td>2,75</td>\n",
       "      <td>17850.0</td>\n",
       "      <td>United Kingdom</td>\n",
       "    </tr>\n",
       "    <tr>\n",
       "      <th>3</th>\n",
       "      <td>536365</td>\n",
       "      <td>KNITTED UNION FLAG HOT WATER BOTTLE</td>\n",
       "      <td>6</td>\n",
       "      <td>01.12.2010 08:26</td>\n",
       "      <td>3,39</td>\n",
       "      <td>17850.0</td>\n",
       "      <td>United Kingdom</td>\n",
       "    </tr>\n",
       "    <tr>\n",
       "      <th>4</th>\n",
       "      <td>536365</td>\n",
       "      <td>RED WOOLLY HOTTIE WHITE HEART.</td>\n",
       "      <td>6</td>\n",
       "      <td>01.12.2010 08:26</td>\n",
       "      <td>3,39</td>\n",
       "      <td>17850.0</td>\n",
       "      <td>United Kingdom</td>\n",
       "    </tr>\n",
       "  </tbody>\n",
       "</table>\n",
       "</div>"
      ],
      "text/plain": [
       "   BillNo                             Itemname  Quantity              Date  \\\n",
       "0  536365   WHITE HANGING HEART T-LIGHT HOLDER         6  01.12.2010 08:26   \n",
       "1  536365                  WHITE METAL LANTERN         6  01.12.2010 08:26   \n",
       "2  536365       CREAM CUPID HEARTS COAT HANGER         8  01.12.2010 08:26   \n",
       "3  536365  KNITTED UNION FLAG HOT WATER BOTTLE         6  01.12.2010 08:26   \n",
       "4  536365       RED WOOLLY HOTTIE WHITE HEART.         6  01.12.2010 08:26   \n",
       "\n",
       "  Price  CustomerID         Country  \n",
       "0  2,55     17850.0  United Kingdom  \n",
       "1  3,39     17850.0  United Kingdom  \n",
       "2  2,75     17850.0  United Kingdom  \n",
       "3  3,39     17850.0  United Kingdom  \n",
       "4  3,39     17850.0  United Kingdom  "
      ]
     },
     "execution_count": 2,
     "metadata": {},
     "output_type": "execute_result"
    }
   ],
   "source": [
    "df.head()"
   ]
  },
  {
   "cell_type": "code",
   "execution_count": 3,
   "id": "009c78de",
   "metadata": {
    "execution": {
     "iopub.execute_input": "2022-09-26T16:01:06.787677Z",
     "iopub.status.busy": "2022-09-26T16:01:06.787264Z",
     "iopub.status.idle": "2022-09-26T16:01:06.961404Z",
     "shell.execute_reply": "2022-09-26T16:01:06.960140Z"
    },
    "papermill": {
     "duration": 0.187469,
     "end_time": "2022-09-26T16:01:06.964050",
     "exception": false,
     "start_time": "2022-09-26T16:01:06.776581",
     "status": "completed"
    },
    "tags": []
   },
   "outputs": [
    {
     "name": "stdout",
     "output_type": "stream",
     "text": [
      "<class 'pandas.core.frame.DataFrame'>\n",
      "RangeIndex: 522064 entries, 0 to 522063\n",
      "Data columns (total 7 columns):\n",
      " #   Column      Non-Null Count   Dtype  \n",
      "---  ------      --------------   -----  \n",
      " 0   BillNo      522064 non-null  object \n",
      " 1   Itemname    520609 non-null  object \n",
      " 2   Quantity    522064 non-null  int64  \n",
      " 3   Date        522064 non-null  object \n",
      " 4   Price       522064 non-null  object \n",
      " 5   CustomerID  388023 non-null  float64\n",
      " 6   Country     522064 non-null  object \n",
      "dtypes: float64(1), int64(1), object(5)\n",
      "memory usage: 27.9+ MB\n"
     ]
    }
   ],
   "source": [
    "df.info()"
   ]
  },
  {
   "cell_type": "markdown",
   "id": "c8ca14bc",
   "metadata": {
    "papermill": {
     "duration": 0.009216,
     "end_time": "2022-09-26T16:01:06.983050",
     "exception": false,
     "start_time": "2022-09-26T16:01:06.973834",
     "status": "completed"
    },
    "tags": []
   },
   "source": [
    "**Temos valores faltantes para Itemname e CustomerID. Para agilizar algumas transformações futuras, seguiu-se com a substituição desses valores pela string \"NONE\"**"
   ]
  },
  {
   "cell_type": "code",
   "execution_count": 4,
   "id": "7efe1dd7",
   "metadata": {
    "execution": {
     "iopub.execute_input": "2022-09-26T16:01:07.005500Z",
     "iopub.status.busy": "2022-09-26T16:01:07.005104Z",
     "iopub.status.idle": "2022-09-26T16:01:07.270909Z",
     "shell.execute_reply": "2022-09-26T16:01:07.269876Z"
    },
    "papermill": {
     "duration": 0.279429,
     "end_time": "2022-09-26T16:01:07.273621",
     "exception": false,
     "start_time": "2022-09-26T16:01:06.994192",
     "status": "completed"
    },
    "tags": []
   },
   "outputs": [],
   "source": [
    "df = df.fillna('NONE')"
   ]
  },
  {
   "cell_type": "markdown",
   "id": "57a5fbd3",
   "metadata": {
    "papermill": {
     "duration": 0.009456,
     "end_time": "2022-09-26T16:01:07.292887",
     "exception": false,
     "start_time": "2022-09-26T16:01:07.283431",
     "status": "completed"
    },
    "tags": []
   },
   "source": [
    "### Ajuste de campos"
   ]
  },
  {
   "cell_type": "code",
   "execution_count": 5,
   "id": "45d552df",
   "metadata": {
    "execution": {
     "iopub.execute_input": "2022-09-26T16:01:07.314090Z",
     "iopub.status.busy": "2022-09-26T16:01:07.313669Z",
     "iopub.status.idle": "2022-09-26T16:01:14.413576Z",
     "shell.execute_reply": "2022-09-26T16:01:14.412666Z"
    },
    "papermill": {
     "duration": 7.113493,
     "end_time": "2022-09-26T16:01:14.416102",
     "exception": false,
     "start_time": "2022-09-26T16:01:07.302609",
     "status": "completed"
    },
    "tags": []
   },
   "outputs": [],
   "source": [
    "df['Date'] = [(datetime.strptime(str(d).split(' ')[0],'%d.%m.%Y').strftime('%Y-%m-%d')) \n",
    "              for d in df['Date']]\n",
    "\n",
    "df['Price'] = [float(p.replace(',','.')) for p in df['Price']]\n",
    "\n",
    "df['CustomerID'] = [(str(c).split('.'))[0] if c != 'NONE' else c for c in df['CustomerID']]"
   ]
  },
  {
   "cell_type": "markdown",
   "id": "73ff3681",
   "metadata": {
    "papermill": {
     "duration": 0.009296,
     "end_time": "2022-09-26T16:01:14.435053",
     "exception": false,
     "start_time": "2022-09-26T16:01:14.425757",
     "status": "completed"
    },
    "tags": []
   },
   "source": [
    "### Inspeção de alguns campos"
   ]
  },
  {
   "cell_type": "code",
   "execution_count": 6,
   "id": "e4d88d4e",
   "metadata": {
    "execution": {
     "iopub.execute_input": "2022-09-26T16:01:14.455693Z",
     "iopub.status.busy": "2022-09-26T16:01:14.455321Z",
     "iopub.status.idle": "2022-09-26T16:01:14.624624Z",
     "shell.execute_reply": "2022-09-26T16:01:14.622983Z"
    },
    "papermill": {
     "duration": 0.182627,
     "end_time": "2022-09-26T16:01:14.627046",
     "exception": false,
     "start_time": "2022-09-26T16:01:14.444419",
     "status": "completed"
    },
    "tags": []
   },
   "outputs": [
    {
     "name": "stdout",
     "output_type": "stream",
     "text": [
      "Itens com quantitade negativa: 1336\n",
      "Itens sem descrição:  1455\n",
      "Itens sem preço:  2511\n"
     ]
    }
   ],
   "source": [
    "print('Itens com quantitade negativa:',df[df.Quantity<0].shape[0])\n",
    "print('Itens sem descrição: ',df[df.Itemname=='NONE'].shape[0])\n",
    "print('Itens sem preço: ',df[df.Price==0].shape[0])"
   ]
  },
  {
   "cell_type": "markdown",
   "id": "b227c3ba",
   "metadata": {
    "papermill": {
     "duration": 0.009511,
     "end_time": "2022-09-26T16:01:14.646316",
     "exception": false,
     "start_time": "2022-09-26T16:01:14.636805",
     "status": "completed"
    },
    "tags": []
   },
   "source": [
    "**Itens sem preço que possuem descrição em minúsculo condizem com itens em retorno, danificados, etc.**"
   ]
  },
  {
   "cell_type": "code",
   "execution_count": 7,
   "id": "94f3101a",
   "metadata": {
    "execution": {
     "iopub.execute_input": "2022-09-26T16:01:14.667723Z",
     "iopub.status.busy": "2022-09-26T16:01:14.667349Z",
     "iopub.status.idle": "2022-09-26T16:01:14.820355Z",
     "shell.execute_reply": "2022-09-26T16:01:14.819161Z"
    },
    "papermill": {
     "duration": 0.166705,
     "end_time": "2022-09-26T16:01:14.822758",
     "exception": false,
     "start_time": "2022-09-26T16:01:14.656053",
     "status": "completed"
    },
    "tags": []
   },
   "outputs": [
    {
     "data": {
      "text/html": [
       "<div>\n",
       "<style scoped>\n",
       "    .dataframe tbody tr th:only-of-type {\n",
       "        vertical-align: middle;\n",
       "    }\n",
       "\n",
       "    .dataframe tbody tr th {\n",
       "        vertical-align: top;\n",
       "    }\n",
       "\n",
       "    .dataframe thead th {\n",
       "        text-align: right;\n",
       "    }\n",
       "</style>\n",
       "<table border=\"1\" class=\"dataframe\">\n",
       "  <thead>\n",
       "    <tr style=\"text-align: right;\">\n",
       "      <th></th>\n",
       "      <th>BillNo</th>\n",
       "      <th>Itemname</th>\n",
       "      <th>Quantity</th>\n",
       "      <th>Date</th>\n",
       "      <th>Price</th>\n",
       "      <th>CustomerID</th>\n",
       "      <th>Country</th>\n",
       "    </tr>\n",
       "  </thead>\n",
       "  <tbody>\n",
       "    <tr>\n",
       "      <th>6275</th>\n",
       "      <td>536941</td>\n",
       "      <td>amazon</td>\n",
       "      <td>20</td>\n",
       "      <td>2010-12-03</td>\n",
       "      <td>0.0</td>\n",
       "      <td>NONE</td>\n",
       "      <td>United Kingdom</td>\n",
       "    </tr>\n",
       "    <tr>\n",
       "      <th>6276</th>\n",
       "      <td>536942</td>\n",
       "      <td>amazon</td>\n",
       "      <td>15</td>\n",
       "      <td>2010-12-03</td>\n",
       "      <td>0.0</td>\n",
       "      <td>NONE</td>\n",
       "      <td>United Kingdom</td>\n",
       "    </tr>\n",
       "    <tr>\n",
       "      <th>12926</th>\n",
       "      <td>537425</td>\n",
       "      <td>check</td>\n",
       "      <td>-20</td>\n",
       "      <td>2010-12-06</td>\n",
       "      <td>0.0</td>\n",
       "      <td>NONE</td>\n",
       "      <td>United Kingdom</td>\n",
       "    </tr>\n",
       "    <tr>\n",
       "      <th>12927</th>\n",
       "      <td>537426</td>\n",
       "      <td>check</td>\n",
       "      <td>-35</td>\n",
       "      <td>2010-12-06</td>\n",
       "      <td>0.0</td>\n",
       "      <td>NONE</td>\n",
       "      <td>United Kingdom</td>\n",
       "    </tr>\n",
       "    <tr>\n",
       "      <th>12973</th>\n",
       "      <td>537432</td>\n",
       "      <td>damages</td>\n",
       "      <td>-43</td>\n",
       "      <td>2010-12-06</td>\n",
       "      <td>0.0</td>\n",
       "      <td>NONE</td>\n",
       "      <td>United Kingdom</td>\n",
       "    </tr>\n",
       "    <tr>\n",
       "      <th>...</th>\n",
       "      <td>...</td>\n",
       "      <td>...</td>\n",
       "      <td>...</td>\n",
       "      <td>...</td>\n",
       "      <td>...</td>\n",
       "      <td>...</td>\n",
       "      <td>...</td>\n",
       "    </tr>\n",
       "    <tr>\n",
       "      <th>515635</th>\n",
       "      <td>581211</td>\n",
       "      <td>check</td>\n",
       "      <td>14</td>\n",
       "      <td>2011-12-07</td>\n",
       "      <td>0.0</td>\n",
       "      <td>NONE</td>\n",
       "      <td>United Kingdom</td>\n",
       "    </tr>\n",
       "    <tr>\n",
       "      <th>515636</th>\n",
       "      <td>581212</td>\n",
       "      <td>lost</td>\n",
       "      <td>-1050</td>\n",
       "      <td>2011-12-07</td>\n",
       "      <td>0.0</td>\n",
       "      <td>NONE</td>\n",
       "      <td>United Kingdom</td>\n",
       "    </tr>\n",
       "    <tr>\n",
       "      <th>515637</th>\n",
       "      <td>581213</td>\n",
       "      <td>check</td>\n",
       "      <td>-30</td>\n",
       "      <td>2011-12-07</td>\n",
       "      <td>0.0</td>\n",
       "      <td>NONE</td>\n",
       "      <td>United Kingdom</td>\n",
       "    </tr>\n",
       "    <tr>\n",
       "      <th>517209</th>\n",
       "      <td>581226</td>\n",
       "      <td>missing</td>\n",
       "      <td>-338</td>\n",
       "      <td>2011-12-08</td>\n",
       "      <td>0.0</td>\n",
       "      <td>NONE</td>\n",
       "      <td>United Kingdom</td>\n",
       "    </tr>\n",
       "    <tr>\n",
       "      <th>519172</th>\n",
       "      <td>581422</td>\n",
       "      <td>smashed</td>\n",
       "      <td>-235</td>\n",
       "      <td>2011-12-08</td>\n",
       "      <td>0.0</td>\n",
       "      <td>NONE</td>\n",
       "      <td>United Kingdom</td>\n",
       "    </tr>\n",
       "  </tbody>\n",
       "</table>\n",
       "<p>493 rows × 7 columns</p>\n",
       "</div>"
      ],
      "text/plain": [
       "        BillNo Itemname  Quantity        Date  Price CustomerID  \\\n",
       "6275    536941   amazon        20  2010-12-03    0.0       NONE   \n",
       "6276    536942   amazon        15  2010-12-03    0.0       NONE   \n",
       "12926   537425    check       -20  2010-12-06    0.0       NONE   \n",
       "12927   537426    check       -35  2010-12-06    0.0       NONE   \n",
       "12973   537432  damages       -43  2010-12-06    0.0       NONE   \n",
       "...        ...      ...       ...         ...    ...        ...   \n",
       "515635  581211    check        14  2011-12-07    0.0       NONE   \n",
       "515636  581212     lost     -1050  2011-12-07    0.0       NONE   \n",
       "515637  581213    check       -30  2011-12-07    0.0       NONE   \n",
       "517209  581226  missing      -338  2011-12-08    0.0       NONE   \n",
       "519172  581422  smashed      -235  2011-12-08    0.0       NONE   \n",
       "\n",
       "               Country  \n",
       "6275    United Kingdom  \n",
       "6276    United Kingdom  \n",
       "12926   United Kingdom  \n",
       "12927   United Kingdom  \n",
       "12973   United Kingdom  \n",
       "...                ...  \n",
       "515635  United Kingdom  \n",
       "515636  United Kingdom  \n",
       "515637  United Kingdom  \n",
       "517209  United Kingdom  \n",
       "519172  United Kingdom  \n",
       "\n",
       "[493 rows x 7 columns]"
      ]
     },
     "execution_count": 7,
     "metadata": {},
     "output_type": "execute_result"
    }
   ],
   "source": [
    "df[(df.Price==0)&(df.Itemname.str.islower()==True)]"
   ]
  },
  {
   "cell_type": "markdown",
   "id": "224a319d",
   "metadata": {
    "papermill": {
     "duration": 0.01057,
     "end_time": "2022-09-26T16:01:14.844766",
     "exception": false,
     "start_time": "2022-09-26T16:01:14.834196",
     "status": "completed"
    },
    "tags": []
   },
   "source": [
    "**Itens sem preço que possuem descrição em maiúsculo condizem com itens sem descrição, na maioria dos casos e para aquele com descrição, muitas vezes possuem quantidades maior que 0, mas sem valor, o que não condiz com o senso comum**"
   ]
  },
  {
   "cell_type": "code",
   "execution_count": 8,
   "id": "d6918a34",
   "metadata": {
    "execution": {
     "iopub.execute_input": "2022-09-26T16:01:14.867416Z",
     "iopub.status.busy": "2022-09-26T16:01:14.866817Z",
     "iopub.status.idle": "2022-09-26T16:01:14.988433Z",
     "shell.execute_reply": "2022-09-26T16:01:14.987244Z"
    },
    "papermill": {
     "duration": 0.13553,
     "end_time": "2022-09-26T16:01:14.990806",
     "exception": false,
     "start_time": "2022-09-26T16:01:14.855276",
     "status": "completed"
    },
    "tags": []
   },
   "outputs": [
    {
     "data": {
      "text/html": [
       "<div>\n",
       "<style scoped>\n",
       "    .dataframe tbody tr th:only-of-type {\n",
       "        vertical-align: middle;\n",
       "    }\n",
       "\n",
       "    .dataframe tbody tr th {\n",
       "        vertical-align: top;\n",
       "    }\n",
       "\n",
       "    .dataframe thead th {\n",
       "        text-align: right;\n",
       "    }\n",
       "</style>\n",
       "<table border=\"1\" class=\"dataframe\">\n",
       "  <thead>\n",
       "    <tr style=\"text-align: right;\">\n",
       "      <th></th>\n",
       "      <th>BillNo</th>\n",
       "      <th>Itemname</th>\n",
       "      <th>Quantity</th>\n",
       "      <th>Date</th>\n",
       "      <th>Price</th>\n",
       "      <th>CustomerID</th>\n",
       "      <th>Country</th>\n",
       "    </tr>\n",
       "  </thead>\n",
       "  <tbody>\n",
       "    <tr>\n",
       "      <th>105732</th>\n",
       "      <td>545599</td>\n",
       "      <td>NONE</td>\n",
       "      <td>-140</td>\n",
       "      <td>2011-03-04</td>\n",
       "      <td>0.0</td>\n",
       "      <td>NONE</td>\n",
       "      <td>United Kingdom</td>\n",
       "    </tr>\n",
       "    <tr>\n",
       "      <th>301841</th>\n",
       "      <td>564530</td>\n",
       "      <td>FRENCH BLUE METAL DOOR SIGN 7</td>\n",
       "      <td>1</td>\n",
       "      <td>2011-08-25</td>\n",
       "      <td>0.0</td>\n",
       "      <td>NONE</td>\n",
       "      <td>United Kingdom</td>\n",
       "    </tr>\n",
       "    <tr>\n",
       "      <th>101118</th>\n",
       "      <td>545176</td>\n",
       "      <td>GLASS JAR DIGESTIVE BISCUITS</td>\n",
       "      <td>1</td>\n",
       "      <td>2011-02-28</td>\n",
       "      <td>0.0</td>\n",
       "      <td>NONE</td>\n",
       "      <td>United Kingdom</td>\n",
       "    </tr>\n",
       "    <tr>\n",
       "      <th>204268</th>\n",
       "      <td>555387</td>\n",
       "      <td>NONE</td>\n",
       "      <td>-59</td>\n",
       "      <td>2011-06-02</td>\n",
       "      <td>0.0</td>\n",
       "      <td>NONE</td>\n",
       "      <td>United Kingdom</td>\n",
       "    </tr>\n",
       "    <tr>\n",
       "      <th>81220</th>\n",
       "      <td>543310</td>\n",
       "      <td>NONE</td>\n",
       "      <td>-234</td>\n",
       "      <td>2011-02-07</td>\n",
       "      <td>0.0</td>\n",
       "      <td>NONE</td>\n",
       "      <td>United Kingdom</td>\n",
       "    </tr>\n",
       "    <tr>\n",
       "      <th>142482</th>\n",
       "      <td>549136</td>\n",
       "      <td>NONE</td>\n",
       "      <td>-3</td>\n",
       "      <td>2011-04-06</td>\n",
       "      <td>0.0</td>\n",
       "      <td>NONE</td>\n",
       "      <td>United Kingdom</td>\n",
       "    </tr>\n",
       "    <tr>\n",
       "      <th>222318</th>\n",
       "      <td>557138</td>\n",
       "      <td>NONE</td>\n",
       "      <td>2</td>\n",
       "      <td>2011-06-17</td>\n",
       "      <td>0.0</td>\n",
       "      <td>NONE</td>\n",
       "      <td>United Kingdom</td>\n",
       "    </tr>\n",
       "    <tr>\n",
       "      <th>163784</th>\n",
       "      <td>551201</td>\n",
       "      <td>NONE</td>\n",
       "      <td>-620</td>\n",
       "      <td>2011-04-27</td>\n",
       "      <td>0.0</td>\n",
       "      <td>NONE</td>\n",
       "      <td>United Kingdom</td>\n",
       "    </tr>\n",
       "    <tr>\n",
       "      <th>21239</th>\n",
       "      <td>538130</td>\n",
       "      <td>NONE</td>\n",
       "      <td>10</td>\n",
       "      <td>2010-12-09</td>\n",
       "      <td>0.0</td>\n",
       "      <td>NONE</td>\n",
       "      <td>United Kingdom</td>\n",
       "    </tr>\n",
       "    <tr>\n",
       "      <th>438136</th>\n",
       "      <td>575615</td>\n",
       "      <td>??</td>\n",
       "      <td>-130</td>\n",
       "      <td>2011-11-10</td>\n",
       "      <td>0.0</td>\n",
       "      <td>NONE</td>\n",
       "      <td>United Kingdom</td>\n",
       "    </tr>\n",
       "    <tr>\n",
       "      <th>104970</th>\n",
       "      <td>545547</td>\n",
       "      <td>NONE</td>\n",
       "      <td>-391</td>\n",
       "      <td>2011-03-03</td>\n",
       "      <td>0.0</td>\n",
       "      <td>NONE</td>\n",
       "      <td>United Kingdom</td>\n",
       "    </tr>\n",
       "    <tr>\n",
       "      <th>14070</th>\n",
       "      <td>537534</td>\n",
       "      <td>AIRLINE BAG VINTAGE WORLD CHAMPION</td>\n",
       "      <td>1</td>\n",
       "      <td>2010-12-07</td>\n",
       "      <td>0.0</td>\n",
       "      <td>NONE</td>\n",
       "      <td>United Kingdom</td>\n",
       "    </tr>\n",
       "    <tr>\n",
       "      <th>138202</th>\n",
       "      <td>548682</td>\n",
       "      <td>NONE</td>\n",
       "      <td>-2</td>\n",
       "      <td>2011-04-01</td>\n",
       "      <td>0.0</td>\n",
       "      <td>NONE</td>\n",
       "      <td>United Kingdom</td>\n",
       "    </tr>\n",
       "    <tr>\n",
       "      <th>126764</th>\n",
       "      <td>547557</td>\n",
       "      <td>NONE</td>\n",
       "      <td>2</td>\n",
       "      <td>2011-03-23</td>\n",
       "      <td>0.0</td>\n",
       "      <td>NONE</td>\n",
       "      <td>United Kingdom</td>\n",
       "    </tr>\n",
       "    <tr>\n",
       "      <th>126319</th>\n",
       "      <td>547524</td>\n",
       "      <td>NONE</td>\n",
       "      <td>4</td>\n",
       "      <td>2011-03-23</td>\n",
       "      <td>0.0</td>\n",
       "      <td>NONE</td>\n",
       "      <td>United Kingdom</td>\n",
       "    </tr>\n",
       "    <tr>\n",
       "      <th>14043</th>\n",
       "      <td>537534</td>\n",
       "      <td>GREEN REGENCY TEACUP AND SAUCER</td>\n",
       "      <td>1</td>\n",
       "      <td>2010-12-07</td>\n",
       "      <td>0.0</td>\n",
       "      <td>NONE</td>\n",
       "      <td>United Kingdom</td>\n",
       "    </tr>\n",
       "    <tr>\n",
       "      <th>382101</th>\n",
       "      <td>571198</td>\n",
       "      <td>NONE</td>\n",
       "      <td>48</td>\n",
       "      <td>2011-10-14</td>\n",
       "      <td>0.0</td>\n",
       "      <td>NONE</td>\n",
       "      <td>United Kingdom</td>\n",
       "    </tr>\n",
       "    <tr>\n",
       "      <th>72224</th>\n",
       "      <td>542417</td>\n",
       "      <td>NONE</td>\n",
       "      <td>-11</td>\n",
       "      <td>2011-01-27</td>\n",
       "      <td>0.0</td>\n",
       "      <td>NONE</td>\n",
       "      <td>United Kingdom</td>\n",
       "    </tr>\n",
       "    <tr>\n",
       "      <th>13670</th>\n",
       "      <td>537439</td>\n",
       "      <td>NONE</td>\n",
       "      <td>1</td>\n",
       "      <td>2010-12-06</td>\n",
       "      <td>0.0</td>\n",
       "      <td>NONE</td>\n",
       "      <td>United Kingdom</td>\n",
       "    </tr>\n",
       "    <tr>\n",
       "      <th>334967</th>\n",
       "      <td>567371</td>\n",
       "      <td>NONE</td>\n",
       "      <td>7</td>\n",
       "      <td>2011-09-20</td>\n",
       "      <td>0.0</td>\n",
       "      <td>NONE</td>\n",
       "      <td>United Kingdom</td>\n",
       "    </tr>\n",
       "  </tbody>\n",
       "</table>\n",
       "</div>"
      ],
      "text/plain": [
       "        BillNo                            Itemname  Quantity        Date  \\\n",
       "105732  545599                                NONE      -140  2011-03-04   \n",
       "301841  564530       FRENCH BLUE METAL DOOR SIGN 7         1  2011-08-25   \n",
       "101118  545176        GLASS JAR DIGESTIVE BISCUITS         1  2011-02-28   \n",
       "204268  555387                                NONE       -59  2011-06-02   \n",
       "81220   543310                                NONE      -234  2011-02-07   \n",
       "142482  549136                                NONE        -3  2011-04-06   \n",
       "222318  557138                                NONE         2  2011-06-17   \n",
       "163784  551201                                NONE      -620  2011-04-27   \n",
       "21239   538130                                NONE        10  2010-12-09   \n",
       "438136  575615                                  ??      -130  2011-11-10   \n",
       "104970  545547                                NONE      -391  2011-03-03   \n",
       "14070   537534  AIRLINE BAG VINTAGE WORLD CHAMPION         1  2010-12-07   \n",
       "138202  548682                                NONE        -2  2011-04-01   \n",
       "126764  547557                                NONE         2  2011-03-23   \n",
       "126319  547524                                NONE         4  2011-03-23   \n",
       "14043   537534     GREEN REGENCY TEACUP AND SAUCER         1  2010-12-07   \n",
       "382101  571198                                NONE        48  2011-10-14   \n",
       "72224   542417                                NONE       -11  2011-01-27   \n",
       "13670   537439                                NONE         1  2010-12-06   \n",
       "334967  567371                                NONE         7  2011-09-20   \n",
       "\n",
       "        Price CustomerID         Country  \n",
       "105732    0.0       NONE  United Kingdom  \n",
       "301841    0.0       NONE  United Kingdom  \n",
       "101118    0.0       NONE  United Kingdom  \n",
       "204268    0.0       NONE  United Kingdom  \n",
       "81220     0.0       NONE  United Kingdom  \n",
       "142482    0.0       NONE  United Kingdom  \n",
       "222318    0.0       NONE  United Kingdom  \n",
       "163784    0.0       NONE  United Kingdom  \n",
       "21239     0.0       NONE  United Kingdom  \n",
       "438136    0.0       NONE  United Kingdom  \n",
       "104970    0.0       NONE  United Kingdom  \n",
       "14070     0.0       NONE  United Kingdom  \n",
       "138202    0.0       NONE  United Kingdom  \n",
       "126764    0.0       NONE  United Kingdom  \n",
       "126319    0.0       NONE  United Kingdom  \n",
       "14043     0.0       NONE  United Kingdom  \n",
       "382101    0.0       NONE  United Kingdom  \n",
       "72224     0.0       NONE  United Kingdom  \n",
       "13670     0.0       NONE  United Kingdom  \n",
       "334967    0.0       NONE  United Kingdom  "
      ]
     },
     "execution_count": 8,
     "metadata": {},
     "output_type": "execute_result"
    }
   ],
   "source": [
    "df[(df.Price==0)&(df.Itemname.str.islower()==False)].sample(20)"
   ]
  },
  {
   "cell_type": "markdown",
   "id": "f9b03c39",
   "metadata": {
    "papermill": {
     "duration": 0.010595,
     "end_time": "2022-09-26T16:01:15.012245",
     "exception": false,
     "start_time": "2022-09-26T16:01:15.001650",
     "status": "completed"
    },
    "tags": []
   },
   "source": [
    "**Como itens sem descrição, quantidade negativa e preço igual 0 não nos interessa, vamos remover e pelo fato da base ser grande, teremos poucas perdas de informação**"
   ]
  },
  {
   "cell_type": "code",
   "execution_count": 9,
   "id": "c6d33f12",
   "metadata": {
    "execution": {
     "iopub.execute_input": "2022-09-26T16:01:15.035706Z",
     "iopub.status.busy": "2022-09-26T16:01:15.035321Z",
     "iopub.status.idle": "2022-09-26T16:01:15.130746Z",
     "shell.execute_reply": "2022-09-26T16:01:15.129700Z"
    },
    "papermill": {
     "duration": 0.11035,
     "end_time": "2022-09-26T16:01:15.133473",
     "exception": false,
     "start_time": "2022-09-26T16:01:15.023123",
     "status": "completed"
    },
    "tags": []
   },
   "outputs": [],
   "source": [
    "df = df[~((df.Quantity < 0)|(df.Itemname == 'NONE') | (df.Price == 0))]"
   ]
  },
  {
   "cell_type": "code",
   "execution_count": 10,
   "id": "0116aade",
   "metadata": {
    "execution": {
     "iopub.execute_input": "2022-09-26T16:01:15.156146Z",
     "iopub.status.busy": "2022-09-26T16:01:15.155723Z",
     "iopub.status.idle": "2022-09-26T16:01:15.465661Z",
     "shell.execute_reply": "2022-09-26T16:01:15.464263Z"
    },
    "papermill": {
     "duration": 0.324083,
     "end_time": "2022-09-26T16:01:15.468171",
     "exception": false,
     "start_time": "2022-09-26T16:01:15.144088",
     "status": "completed"
    },
    "tags": []
   },
   "outputs": [
    {
     "name": "stdout",
     "output_type": "stream",
     "text": [
      "Total de transações distintas na base:  19563\n",
      "Total de clientes distintos identificados na base:  4296\n",
      "Total de produtos distintas na base:  4006\n",
      "Transações ocorreram entre 2010-12-01 e 2011-12-09\n"
     ]
    }
   ],
   "source": [
    "print('Total de transações distintas na base: ',df['BillNo'].nunique())\n",
    "print('Total de clientes distintos identificados na base: ',df[df.CustomerID != 'NONE']['CustomerID'].nunique())\n",
    "print('Total de produtos distintas na base: ',df['Itemname'].nunique())\n",
    "print(f'Transações ocorreram entre {min(df.Date)} e {max(df.Date)}')"
   ]
  },
  {
   "cell_type": "markdown",
   "id": "60045788",
   "metadata": {
    "papermill": {
     "duration": 0.010389,
     "end_time": "2022-09-26T16:01:15.489068",
     "exception": false,
     "start_time": "2022-09-26T16:01:15.478679",
     "status": "completed"
    },
    "tags": []
   },
   "source": [
    "**Grande parte das transações realizadas são de clientes do Reino Unido**"
   ]
  },
  {
   "cell_type": "code",
   "execution_count": 11,
   "id": "70cffd0b",
   "metadata": {
    "execution": {
     "iopub.execute_input": "2022-09-26T16:01:15.512200Z",
     "iopub.status.busy": "2022-09-26T16:01:15.511776Z",
     "iopub.status.idle": "2022-09-26T16:01:15.656633Z",
     "shell.execute_reply": "2022-09-26T16:01:15.655416Z"
    },
    "papermill": {
     "duration": 0.159512,
     "end_time": "2022-09-26T16:01:15.659232",
     "exception": false,
     "start_time": "2022-09-26T16:01:15.499720",
     "status": "completed"
    },
    "tags": []
   },
   "outputs": [],
   "source": [
    "aux = df.drop_duplicates(['BillNo','CustomerID','Country'])"
   ]
  },
  {
   "cell_type": "code",
   "execution_count": 12,
   "id": "5259028e",
   "metadata": {
    "execution": {
     "iopub.execute_input": "2022-09-26T16:01:15.682365Z",
     "iopub.status.busy": "2022-09-26T16:01:15.681952Z",
     "iopub.status.idle": "2022-09-26T16:01:15.699477Z",
     "shell.execute_reply": "2022-09-26T16:01:15.698398Z"
    },
    "papermill": {
     "duration": 0.031739,
     "end_time": "2022-09-26T16:01:15.701703",
     "exception": false,
     "start_time": "2022-09-26T16:01:15.669964",
     "status": "completed"
    },
    "tags": []
   },
   "outputs": [
    {
     "data": {
      "text/html": [
       "<div>\n",
       "<style scoped>\n",
       "    .dataframe tbody tr th:only-of-type {\n",
       "        vertical-align: middle;\n",
       "    }\n",
       "\n",
       "    .dataframe tbody tr th {\n",
       "        vertical-align: top;\n",
       "    }\n",
       "\n",
       "    .dataframe thead th {\n",
       "        text-align: right;\n",
       "    }\n",
       "</style>\n",
       "<table border=\"1\" class=\"dataframe\">\n",
       "  <thead>\n",
       "    <tr style=\"text-align: right;\">\n",
       "      <th></th>\n",
       "      <th>total_transacoes</th>\n",
       "    </tr>\n",
       "    <tr>\n",
       "      <th>Country</th>\n",
       "      <th></th>\n",
       "    </tr>\n",
       "  </thead>\n",
       "  <tbody>\n",
       "    <tr>\n",
       "      <th>United Kingdom</th>\n",
       "      <td>18023</td>\n",
       "    </tr>\n",
       "    <tr>\n",
       "      <th>Germany</th>\n",
       "      <td>457</td>\n",
       "    </tr>\n",
       "    <tr>\n",
       "      <th>France</th>\n",
       "      <td>392</td>\n",
       "    </tr>\n",
       "    <tr>\n",
       "      <th>Belgium</th>\n",
       "      <td>98</td>\n",
       "    </tr>\n",
       "    <tr>\n",
       "      <th>Netherlands</th>\n",
       "      <td>94</td>\n",
       "    </tr>\n",
       "    <tr>\n",
       "      <th>Spain</th>\n",
       "      <td>90</td>\n",
       "    </tr>\n",
       "    <tr>\n",
       "      <th>Portugal</th>\n",
       "      <td>58</td>\n",
       "    </tr>\n",
       "    <tr>\n",
       "      <th>Australia</th>\n",
       "      <td>57</td>\n",
       "    </tr>\n",
       "    <tr>\n",
       "      <th>Switzerland</th>\n",
       "      <td>54</td>\n",
       "    </tr>\n",
       "    <tr>\n",
       "      <th>Italy</th>\n",
       "      <td>38</td>\n",
       "    </tr>\n",
       "    <tr>\n",
       "      <th>Sweden</th>\n",
       "      <td>36</td>\n",
       "    </tr>\n",
       "    <tr>\n",
       "      <th>Norway</th>\n",
       "      <td>36</td>\n",
       "    </tr>\n",
       "    <tr>\n",
       "      <th>Poland</th>\n",
       "      <td>19</td>\n",
       "    </tr>\n",
       "    <tr>\n",
       "      <th>Japan</th>\n",
       "      <td>19</td>\n",
       "    </tr>\n",
       "    <tr>\n",
       "      <th>Austria</th>\n",
       "      <td>17</td>\n",
       "    </tr>\n",
       "    <tr>\n",
       "      <th>Unspecified</th>\n",
       "      <td>13</td>\n",
       "    </tr>\n",
       "    <tr>\n",
       "      <th>Hong Kong</th>\n",
       "      <td>11</td>\n",
       "    </tr>\n",
       "    <tr>\n",
       "      <th>Israel</th>\n",
       "      <td>8</td>\n",
       "    </tr>\n",
       "    <tr>\n",
       "      <th>Iceland</th>\n",
       "      <td>7</td>\n",
       "    </tr>\n",
       "    <tr>\n",
       "      <th>Singapore</th>\n",
       "      <td>7</td>\n",
       "    </tr>\n",
       "    <tr>\n",
       "      <th>Greece</th>\n",
       "      <td>5</td>\n",
       "    </tr>\n",
       "    <tr>\n",
       "      <th>USA</th>\n",
       "      <td>5</td>\n",
       "    </tr>\n",
       "    <tr>\n",
       "      <th>Malta</th>\n",
       "      <td>5</td>\n",
       "    </tr>\n",
       "    <tr>\n",
       "      <th>Lithuania</th>\n",
       "      <td>4</td>\n",
       "    </tr>\n",
       "    <tr>\n",
       "      <th>United Arab Emirates</th>\n",
       "      <td>3</td>\n",
       "    </tr>\n",
       "    <tr>\n",
       "      <th>Bahrain</th>\n",
       "      <td>3</td>\n",
       "    </tr>\n",
       "    <tr>\n",
       "      <th>Lebanon</th>\n",
       "      <td>1</td>\n",
       "    </tr>\n",
       "    <tr>\n",
       "      <th>RSA</th>\n",
       "      <td>1</td>\n",
       "    </tr>\n",
       "    <tr>\n",
       "      <th>Saudi Arabia</th>\n",
       "      <td>1</td>\n",
       "    </tr>\n",
       "    <tr>\n",
       "      <th>Brazil</th>\n",
       "      <td>1</td>\n",
       "    </tr>\n",
       "  </tbody>\n",
       "</table>\n",
       "</div>"
      ],
      "text/plain": [
       "                      total_transacoes\n",
       "Country                               \n",
       "United Kingdom                   18023\n",
       "Germany                            457\n",
       "France                             392\n",
       "Belgium                             98\n",
       "Netherlands                         94\n",
       "Spain                               90\n",
       "Portugal                            58\n",
       "Australia                           57\n",
       "Switzerland                         54\n",
       "Italy                               38\n",
       "Sweden                              36\n",
       "Norway                              36\n",
       "Poland                              19\n",
       "Japan                               19\n",
       "Austria                             17\n",
       "Unspecified                         13\n",
       "Hong Kong                           11\n",
       "Israel                               8\n",
       "Iceland                              7\n",
       "Singapore                            7\n",
       "Greece                               5\n",
       "USA                                  5\n",
       "Malta                                5\n",
       "Lithuania                            4\n",
       "United Arab Emirates                 3\n",
       "Bahrain                              3\n",
       "Lebanon                              1\n",
       "RSA                                  1\n",
       "Saudi Arabia                         1\n",
       "Brazil                               1"
      ]
     },
     "execution_count": 12,
     "metadata": {},
     "output_type": "execute_result"
    }
   ],
   "source": [
    "aux.groupby('Country').agg({'BillNo':'count'}).rename({'BillNo':'total_transacoes'},axis=1)\\\n",
    "                                               .sort_values('total_transacoes',\n",
    "                                                            ascending=False)"
   ]
  },
  {
   "cell_type": "markdown",
   "id": "849a8f48",
   "metadata": {
    "papermill": {
     "duration": 0.010356,
     "end_time": "2022-09-26T16:01:15.723040",
     "exception": false,
     "start_time": "2022-09-26T16:01:15.712684",
     "status": "completed"
    },
    "tags": []
   },
   "source": [
    "# EDA"
   ]
  },
  {
   "cell_type": "code",
   "execution_count": 13,
   "id": "42823582",
   "metadata": {
    "execution": {
     "iopub.execute_input": "2022-09-26T16:01:15.745572Z",
     "iopub.status.busy": "2022-09-26T16:01:15.745170Z",
     "iopub.status.idle": "2022-09-26T16:01:15.765808Z",
     "shell.execute_reply": "2022-09-26T16:01:15.764772Z"
    },
    "papermill": {
     "duration": 0.034609,
     "end_time": "2022-09-26T16:01:15.768047",
     "exception": false,
     "start_time": "2022-09-26T16:01:15.733438",
     "status": "completed"
    },
    "tags": []
   },
   "outputs": [
    {
     "data": {
      "text/html": [
       "<div>\n",
       "<style scoped>\n",
       "    .dataframe tbody tr th:only-of-type {\n",
       "        vertical-align: middle;\n",
       "    }\n",
       "\n",
       "    .dataframe tbody tr th {\n",
       "        vertical-align: top;\n",
       "    }\n",
       "\n",
       "    .dataframe thead th {\n",
       "        text-align: right;\n",
       "    }\n",
       "</style>\n",
       "<table border=\"1\" class=\"dataframe\">\n",
       "  <thead>\n",
       "    <tr style=\"text-align: right;\">\n",
       "      <th></th>\n",
       "      <th>BillNo</th>\n",
       "      <th>Itemname</th>\n",
       "      <th>Quantity</th>\n",
       "      <th>Date</th>\n",
       "      <th>Price</th>\n",
       "      <th>CustomerID</th>\n",
       "      <th>Country</th>\n",
       "    </tr>\n",
       "  </thead>\n",
       "  <tbody>\n",
       "    <tr>\n",
       "      <th>0</th>\n",
       "      <td>536365</td>\n",
       "      <td>WHITE HANGING HEART T-LIGHT HOLDER</td>\n",
       "      <td>6</td>\n",
       "      <td>2010-12-01</td>\n",
       "      <td>2.55</td>\n",
       "      <td>17850</td>\n",
       "      <td>United Kingdom</td>\n",
       "    </tr>\n",
       "    <tr>\n",
       "      <th>1</th>\n",
       "      <td>536365</td>\n",
       "      <td>WHITE METAL LANTERN</td>\n",
       "      <td>6</td>\n",
       "      <td>2010-12-01</td>\n",
       "      <td>3.39</td>\n",
       "      <td>17850</td>\n",
       "      <td>United Kingdom</td>\n",
       "    </tr>\n",
       "    <tr>\n",
       "      <th>2</th>\n",
       "      <td>536365</td>\n",
       "      <td>CREAM CUPID HEARTS COAT HANGER</td>\n",
       "      <td>8</td>\n",
       "      <td>2010-12-01</td>\n",
       "      <td>2.75</td>\n",
       "      <td>17850</td>\n",
       "      <td>United Kingdom</td>\n",
       "    </tr>\n",
       "    <tr>\n",
       "      <th>3</th>\n",
       "      <td>536365</td>\n",
       "      <td>KNITTED UNION FLAG HOT WATER BOTTLE</td>\n",
       "      <td>6</td>\n",
       "      <td>2010-12-01</td>\n",
       "      <td>3.39</td>\n",
       "      <td>17850</td>\n",
       "      <td>United Kingdom</td>\n",
       "    </tr>\n",
       "    <tr>\n",
       "      <th>4</th>\n",
       "      <td>536365</td>\n",
       "      <td>RED WOOLLY HOTTIE WHITE HEART.</td>\n",
       "      <td>6</td>\n",
       "      <td>2010-12-01</td>\n",
       "      <td>3.39</td>\n",
       "      <td>17850</td>\n",
       "      <td>United Kingdom</td>\n",
       "    </tr>\n",
       "    <tr>\n",
       "      <th>...</th>\n",
       "      <td>...</td>\n",
       "      <td>...</td>\n",
       "      <td>...</td>\n",
       "      <td>...</td>\n",
       "      <td>...</td>\n",
       "      <td>...</td>\n",
       "      <td>...</td>\n",
       "    </tr>\n",
       "    <tr>\n",
       "      <th>522059</th>\n",
       "      <td>581587</td>\n",
       "      <td>PACK OF 20 SPACEBOY NAPKINS</td>\n",
       "      <td>12</td>\n",
       "      <td>2011-12-09</td>\n",
       "      <td>0.85</td>\n",
       "      <td>12680</td>\n",
       "      <td>France</td>\n",
       "    </tr>\n",
       "    <tr>\n",
       "      <th>522060</th>\n",
       "      <td>581587</td>\n",
       "      <td>CHILDREN'S APRON DOLLY GIRL</td>\n",
       "      <td>6</td>\n",
       "      <td>2011-12-09</td>\n",
       "      <td>2.10</td>\n",
       "      <td>12680</td>\n",
       "      <td>France</td>\n",
       "    </tr>\n",
       "    <tr>\n",
       "      <th>522061</th>\n",
       "      <td>581587</td>\n",
       "      <td>CHILDRENS CUTLERY DOLLY GIRL</td>\n",
       "      <td>4</td>\n",
       "      <td>2011-12-09</td>\n",
       "      <td>4.15</td>\n",
       "      <td>12680</td>\n",
       "      <td>France</td>\n",
       "    </tr>\n",
       "    <tr>\n",
       "      <th>522062</th>\n",
       "      <td>581587</td>\n",
       "      <td>CHILDRENS CUTLERY CIRCUS PARADE</td>\n",
       "      <td>4</td>\n",
       "      <td>2011-12-09</td>\n",
       "      <td>4.15</td>\n",
       "      <td>12680</td>\n",
       "      <td>France</td>\n",
       "    </tr>\n",
       "    <tr>\n",
       "      <th>522063</th>\n",
       "      <td>581587</td>\n",
       "      <td>BAKING SET 9 PIECE RETROSPOT</td>\n",
       "      <td>3</td>\n",
       "      <td>2011-12-09</td>\n",
       "      <td>4.95</td>\n",
       "      <td>12680</td>\n",
       "      <td>France</td>\n",
       "    </tr>\n",
       "  </tbody>\n",
       "</table>\n",
       "<p>519553 rows × 7 columns</p>\n",
       "</div>"
      ],
      "text/plain": [
       "        BillNo                             Itemname  Quantity        Date  \\\n",
       "0       536365   WHITE HANGING HEART T-LIGHT HOLDER         6  2010-12-01   \n",
       "1       536365                  WHITE METAL LANTERN         6  2010-12-01   \n",
       "2       536365       CREAM CUPID HEARTS COAT HANGER         8  2010-12-01   \n",
       "3       536365  KNITTED UNION FLAG HOT WATER BOTTLE         6  2010-12-01   \n",
       "4       536365       RED WOOLLY HOTTIE WHITE HEART.         6  2010-12-01   \n",
       "...        ...                                  ...       ...         ...   \n",
       "522059  581587          PACK OF 20 SPACEBOY NAPKINS        12  2011-12-09   \n",
       "522060  581587          CHILDREN'S APRON DOLLY GIRL         6  2011-12-09   \n",
       "522061  581587         CHILDRENS CUTLERY DOLLY GIRL         4  2011-12-09   \n",
       "522062  581587      CHILDRENS CUTLERY CIRCUS PARADE         4  2011-12-09   \n",
       "522063  581587         BAKING SET 9 PIECE RETROSPOT         3  2011-12-09   \n",
       "\n",
       "        Price CustomerID         Country  \n",
       "0        2.55      17850  United Kingdom  \n",
       "1        3.39      17850  United Kingdom  \n",
       "2        2.75      17850  United Kingdom  \n",
       "3        3.39      17850  United Kingdom  \n",
       "4        3.39      17850  United Kingdom  \n",
       "...       ...        ...             ...  \n",
       "522059   0.85      12680          France  \n",
       "522060   2.10      12680          France  \n",
       "522061   4.15      12680          France  \n",
       "522062   4.15      12680          France  \n",
       "522063   4.95      12680          France  \n",
       "\n",
       "[519553 rows x 7 columns]"
      ]
     },
     "execution_count": 13,
     "metadata": {},
     "output_type": "execute_result"
    }
   ],
   "source": [
    "df"
   ]
  },
  {
   "cell_type": "code",
   "execution_count": 14,
   "id": "1d4f1d7a",
   "metadata": {
    "execution": {
     "iopub.execute_input": "2022-09-26T16:01:15.791699Z",
     "iopub.status.busy": "2022-09-26T16:01:15.791311Z",
     "iopub.status.idle": "2022-09-26T16:01:15.813653Z",
     "shell.execute_reply": "2022-09-26T16:01:15.812419Z"
    },
    "papermill": {
     "duration": 0.037406,
     "end_time": "2022-09-26T16:01:15.816484",
     "exception": false,
     "start_time": "2022-09-26T16:01:15.779078",
     "status": "completed"
    },
    "tags": []
   },
   "outputs": [
    {
     "data": {
      "text/html": [
       "<div>\n",
       "<style scoped>\n",
       "    .dataframe tbody tr th:only-of-type {\n",
       "        vertical-align: middle;\n",
       "    }\n",
       "\n",
       "    .dataframe tbody tr th {\n",
       "        vertical-align: top;\n",
       "    }\n",
       "\n",
       "    .dataframe thead th {\n",
       "        text-align: right;\n",
       "    }\n",
       "</style>\n",
       "<table border=\"1\" class=\"dataframe\">\n",
       "  <thead>\n",
       "    <tr style=\"text-align: right;\">\n",
       "      <th></th>\n",
       "      <th>BillNo</th>\n",
       "      <th>Itemname</th>\n",
       "      <th>Quantity</th>\n",
       "      <th>Date</th>\n",
       "      <th>Price</th>\n",
       "      <th>CustomerID</th>\n",
       "      <th>Country</th>\n",
       "      <th>totalvalue</th>\n",
       "    </tr>\n",
       "  </thead>\n",
       "  <tbody>\n",
       "    <tr>\n",
       "      <th>0</th>\n",
       "      <td>536365</td>\n",
       "      <td>WHITE HANGING HEART T-LIGHT HOLDER</td>\n",
       "      <td>6</td>\n",
       "      <td>2010-12-01</td>\n",
       "      <td>2.55</td>\n",
       "      <td>17850</td>\n",
       "      <td>United Kingdom</td>\n",
       "      <td>15.30</td>\n",
       "    </tr>\n",
       "    <tr>\n",
       "      <th>1</th>\n",
       "      <td>536365</td>\n",
       "      <td>WHITE METAL LANTERN</td>\n",
       "      <td>6</td>\n",
       "      <td>2010-12-01</td>\n",
       "      <td>3.39</td>\n",
       "      <td>17850</td>\n",
       "      <td>United Kingdom</td>\n",
       "      <td>20.34</td>\n",
       "    </tr>\n",
       "    <tr>\n",
       "      <th>2</th>\n",
       "      <td>536365</td>\n",
       "      <td>CREAM CUPID HEARTS COAT HANGER</td>\n",
       "      <td>8</td>\n",
       "      <td>2010-12-01</td>\n",
       "      <td>2.75</td>\n",
       "      <td>17850</td>\n",
       "      <td>United Kingdom</td>\n",
       "      <td>22.00</td>\n",
       "    </tr>\n",
       "    <tr>\n",
       "      <th>3</th>\n",
       "      <td>536365</td>\n",
       "      <td>KNITTED UNION FLAG HOT WATER BOTTLE</td>\n",
       "      <td>6</td>\n",
       "      <td>2010-12-01</td>\n",
       "      <td>3.39</td>\n",
       "      <td>17850</td>\n",
       "      <td>United Kingdom</td>\n",
       "      <td>20.34</td>\n",
       "    </tr>\n",
       "    <tr>\n",
       "      <th>4</th>\n",
       "      <td>536365</td>\n",
       "      <td>RED WOOLLY HOTTIE WHITE HEART.</td>\n",
       "      <td>6</td>\n",
       "      <td>2010-12-01</td>\n",
       "      <td>3.39</td>\n",
       "      <td>17850</td>\n",
       "      <td>United Kingdom</td>\n",
       "      <td>20.34</td>\n",
       "    </tr>\n",
       "    <tr>\n",
       "      <th>...</th>\n",
       "      <td>...</td>\n",
       "      <td>...</td>\n",
       "      <td>...</td>\n",
       "      <td>...</td>\n",
       "      <td>...</td>\n",
       "      <td>...</td>\n",
       "      <td>...</td>\n",
       "      <td>...</td>\n",
       "    </tr>\n",
       "    <tr>\n",
       "      <th>522059</th>\n",
       "      <td>581587</td>\n",
       "      <td>PACK OF 20 SPACEBOY NAPKINS</td>\n",
       "      <td>12</td>\n",
       "      <td>2011-12-09</td>\n",
       "      <td>0.85</td>\n",
       "      <td>12680</td>\n",
       "      <td>France</td>\n",
       "      <td>10.20</td>\n",
       "    </tr>\n",
       "    <tr>\n",
       "      <th>522060</th>\n",
       "      <td>581587</td>\n",
       "      <td>CHILDREN'S APRON DOLLY GIRL</td>\n",
       "      <td>6</td>\n",
       "      <td>2011-12-09</td>\n",
       "      <td>2.10</td>\n",
       "      <td>12680</td>\n",
       "      <td>France</td>\n",
       "      <td>12.60</td>\n",
       "    </tr>\n",
       "    <tr>\n",
       "      <th>522061</th>\n",
       "      <td>581587</td>\n",
       "      <td>CHILDRENS CUTLERY DOLLY GIRL</td>\n",
       "      <td>4</td>\n",
       "      <td>2011-12-09</td>\n",
       "      <td>4.15</td>\n",
       "      <td>12680</td>\n",
       "      <td>France</td>\n",
       "      <td>16.60</td>\n",
       "    </tr>\n",
       "    <tr>\n",
       "      <th>522062</th>\n",
       "      <td>581587</td>\n",
       "      <td>CHILDRENS CUTLERY CIRCUS PARADE</td>\n",
       "      <td>4</td>\n",
       "      <td>2011-12-09</td>\n",
       "      <td>4.15</td>\n",
       "      <td>12680</td>\n",
       "      <td>France</td>\n",
       "      <td>16.60</td>\n",
       "    </tr>\n",
       "    <tr>\n",
       "      <th>522063</th>\n",
       "      <td>581587</td>\n",
       "      <td>BAKING SET 9 PIECE RETROSPOT</td>\n",
       "      <td>3</td>\n",
       "      <td>2011-12-09</td>\n",
       "      <td>4.95</td>\n",
       "      <td>12680</td>\n",
       "      <td>France</td>\n",
       "      <td>14.85</td>\n",
       "    </tr>\n",
       "  </tbody>\n",
       "</table>\n",
       "<p>519553 rows × 8 columns</p>\n",
       "</div>"
      ],
      "text/plain": [
       "        BillNo                             Itemname  Quantity        Date  \\\n",
       "0       536365   WHITE HANGING HEART T-LIGHT HOLDER         6  2010-12-01   \n",
       "1       536365                  WHITE METAL LANTERN         6  2010-12-01   \n",
       "2       536365       CREAM CUPID HEARTS COAT HANGER         8  2010-12-01   \n",
       "3       536365  KNITTED UNION FLAG HOT WATER BOTTLE         6  2010-12-01   \n",
       "4       536365       RED WOOLLY HOTTIE WHITE HEART.         6  2010-12-01   \n",
       "...        ...                                  ...       ...         ...   \n",
       "522059  581587          PACK OF 20 SPACEBOY NAPKINS        12  2011-12-09   \n",
       "522060  581587          CHILDREN'S APRON DOLLY GIRL         6  2011-12-09   \n",
       "522061  581587         CHILDRENS CUTLERY DOLLY GIRL         4  2011-12-09   \n",
       "522062  581587      CHILDRENS CUTLERY CIRCUS PARADE         4  2011-12-09   \n",
       "522063  581587         BAKING SET 9 PIECE RETROSPOT         3  2011-12-09   \n",
       "\n",
       "        Price CustomerID         Country  totalvalue  \n",
       "0        2.55      17850  United Kingdom       15.30  \n",
       "1        3.39      17850  United Kingdom       20.34  \n",
       "2        2.75      17850  United Kingdom       22.00  \n",
       "3        3.39      17850  United Kingdom       20.34  \n",
       "4        3.39      17850  United Kingdom       20.34  \n",
       "...       ...        ...             ...         ...  \n",
       "522059   0.85      12680          France       10.20  \n",
       "522060   2.10      12680          France       12.60  \n",
       "522061   4.15      12680          France       16.60  \n",
       "522062   4.15      12680          France       16.60  \n",
       "522063   4.95      12680          France       14.85  \n",
       "\n",
       "[519553 rows x 8 columns]"
      ]
     },
     "execution_count": 14,
     "metadata": {},
     "output_type": "execute_result"
    }
   ],
   "source": [
    "df['totalvalue'] = df['Quantity'] * df['Price']\n",
    "df"
   ]
  },
  {
   "cell_type": "markdown",
   "id": "797e2f45",
   "metadata": {
    "papermill": {
     "duration": 0.011031,
     "end_time": "2022-09-26T16:01:15.839572",
     "exception": false,
     "start_time": "2022-09-26T16:01:15.828541",
     "status": "completed"
    },
    "tags": []
   },
   "source": [
    "## VD"
   ]
  },
  {
   "cell_type": "markdown",
   "id": "0eb3f805",
   "metadata": {
    "papermill": {
     "duration": 0.011941,
     "end_time": "2022-09-26T16:01:15.863926",
     "exception": false,
     "start_time": "2022-09-26T16:01:15.851985",
     "status": "completed"
    },
    "tags": []
   },
   "source": [
    "Vale a pena cortarmos produtos que não vendemos o suficiente? Qual seria o critério de suficiência?"
   ]
  },
  {
   "cell_type": "code",
   "execution_count": 15,
   "id": "536c3761",
   "metadata": {
    "execution": {
     "iopub.execute_input": "2022-09-26T16:01:15.889213Z",
     "iopub.status.busy": "2022-09-26T16:01:15.888364Z",
     "iopub.status.idle": "2022-09-26T16:01:15.938951Z",
     "shell.execute_reply": "2022-09-26T16:01:15.937993Z"
    },
    "papermill": {
     "duration": 0.06588,
     "end_time": "2022-09-26T16:01:15.941328",
     "exception": false,
     "start_time": "2022-09-26T16:01:15.875448",
     "status": "completed"
    },
    "tags": []
   },
   "outputs": [
    {
     "data": {
      "text/plain": [
       "573585    1114\n",
       "581219     749\n",
       "581492     731\n",
       "580729     721\n",
       "558475     705\n",
       "          ... \n",
       "569689       1\n",
       "554932       1\n",
       "549314       1\n",
       "554930       1\n",
       "548216       1\n",
       "Name: BillNo, Length: 19563, dtype: int64"
      ]
     },
     "execution_count": 15,
     "metadata": {},
     "output_type": "execute_result"
    }
   ],
   "source": [
    "df['BillNo'].value_counts()"
   ]
  },
  {
   "cell_type": "code",
   "execution_count": 16,
   "id": "acf0d923",
   "metadata": {
    "execution": {
     "iopub.execute_input": "2022-09-26T16:01:15.966626Z",
     "iopub.status.busy": "2022-09-26T16:01:15.966212Z",
     "iopub.status.idle": "2022-09-26T16:01:16.017758Z",
     "shell.execute_reply": "2022-09-26T16:01:16.016690Z"
    },
    "papermill": {
     "duration": 0.067198,
     "end_time": "2022-09-26T16:01:16.020278",
     "exception": false,
     "start_time": "2022-09-26T16:01:15.953080",
     "status": "completed"
    },
    "tags": []
   },
   "outputs": [
    {
     "data": {
      "text/plain": [
       "count    19563.000000\n",
       "mean        26.557941\n",
       "std         47.907927\n",
       "min          1.000000\n",
       "25%          6.000000\n",
       "50%         15.000000\n",
       "75%         29.000000\n",
       "max       1114.000000\n",
       "Name: BillNo, dtype: float64"
      ]
     },
     "execution_count": 16,
     "metadata": {},
     "output_type": "execute_result"
    }
   ],
   "source": [
    "df['BillNo'].value_counts().describe()"
   ]
  },
  {
   "cell_type": "code",
   "execution_count": 17,
   "id": "74f94c3e",
   "metadata": {
    "execution": {
     "iopub.execute_input": "2022-09-26T16:01:16.046108Z",
     "iopub.status.busy": "2022-09-26T16:01:16.045669Z",
     "iopub.status.idle": "2022-09-26T16:01:16.364117Z",
     "shell.execute_reply": "2022-09-26T16:01:16.362961Z"
    },
    "papermill": {
     "duration": 0.334607,
     "end_time": "2022-09-26T16:01:16.366795",
     "exception": false,
     "start_time": "2022-09-26T16:01:16.032188",
     "status": "completed"
    },
    "tags": []
   },
   "outputs": [
    {
     "data": {
      "text/plain": [
       "<AxesSubplot:>"
      ]
     },
     "execution_count": 17,
     "metadata": {},
     "output_type": "execute_result"
    },
    {
     "data": {
      "image/png": "[encoded data removed]",
      "text/plain": [
       "<Figure size 432x288 with 1 Axes>"
      ]
     },
     "metadata": {
      "needs_background": "light"
     },
     "output_type": "display_data"
    }
   ],
   "source": [
    "df['BillNo'].value_counts().plot()"
   ]
  },
  {
   "cell_type": "code",
   "execution_count": 18,
   "id": "5e1dd313",
   "metadata": {
    "execution": {
     "iopub.execute_input": "2022-09-26T16:01:16.393881Z",
     "iopub.status.busy": "2022-09-26T16:01:16.393252Z",
     "iopub.status.idle": "2022-09-26T16:01:16.438855Z",
     "shell.execute_reply": "2022-09-26T16:01:16.437599Z"
    },
    "papermill": {
     "duration": 0.061791,
     "end_time": "2022-09-26T16:01:16.441473",
     "exception": false,
     "start_time": "2022-09-26T16:01:16.379682",
     "status": "completed"
    },
    "tags": []
   },
   "outputs": [
    {
     "data": {
      "text/plain": [
       "WHITE HANGING HEART T-LIGHT HOLDER    2265\n",
       "JUMBO BAG RED RETROSPOT               2084\n",
       "REGENCY CAKESTAND 3 TIER              1929\n",
       "PARTY BUNTING                         1676\n",
       "LUNCH BAG RED RETROSPOT               1570\n",
       "                                      ... \n",
       "PURPLE/TURQ FLOWERS HANDBAG              1\n",
       "PINK BAROQUE FLOCK CANDLE HOLDER         1\n",
       "SET OF 3 PINK FLYING DUCKS               1\n",
       "PAINTED HEART WREATH WITH BELL           1\n",
       "PAPER CRAFT , LITTLE BIRDIE              1\n",
       "Name: Itemname, Length: 4006, dtype: int64"
      ]
     },
     "execution_count": 18,
     "metadata": {},
     "output_type": "execute_result"
    }
   ],
   "source": [
    "df['Itemname'].value_counts()"
   ]
  },
  {
   "cell_type": "code",
   "execution_count": 19,
   "id": "735b5a1c",
   "metadata": {
    "execution": {
     "iopub.execute_input": "2022-09-26T16:01:16.468706Z",
     "iopub.status.busy": "2022-09-26T16:01:16.468284Z",
     "iopub.status.idle": "2022-09-26T16:01:16.517210Z",
     "shell.execute_reply": "2022-09-26T16:01:16.516105Z"
    },
    "papermill": {
     "duration": 0.065614,
     "end_time": "2022-09-26T16:01:16.519538",
     "exception": false,
     "start_time": "2022-09-26T16:01:16.453924",
     "status": "completed"
    },
    "tags": []
   },
   "outputs": [
    {
     "data": {
      "text/plain": [
       "count    4006.000000\n",
       "mean      129.693709\n",
       "std       190.410578\n",
       "min         1.000000\n",
       "25%        15.000000\n",
       "50%        63.000000\n",
       "75%       162.000000\n",
       "max      2265.000000\n",
       "Name: Itemname, dtype: float64"
      ]
     },
     "execution_count": 19,
     "metadata": {},
     "output_type": "execute_result"
    }
   ],
   "source": [
    "df['Itemname'].value_counts().describe()"
   ]
  },
  {
   "cell_type": "code",
   "execution_count": 20,
   "id": "aec74b3d",
   "metadata": {
    "execution": {
     "iopub.execute_input": "2022-09-26T16:01:16.545621Z",
     "iopub.status.busy": "2022-09-26T16:01:16.545242Z",
     "iopub.status.idle": "2022-09-26T16:01:16.809177Z",
     "shell.execute_reply": "2022-09-26T16:01:16.808134Z"
    },
    "papermill": {
     "duration": 0.279698,
     "end_time": "2022-09-26T16:01:16.811443",
     "exception": false,
     "start_time": "2022-09-26T16:01:16.531745",
     "status": "completed"
    },
    "tags": []
   },
   "outputs": [
    {
     "data": {
      "text/plain": [
       "<AxesSubplot:>"
      ]
     },
     "execution_count": 20,
     "metadata": {},
     "output_type": "execute_result"
    },
    {
     "data": {
      "image/png": "[encoded data removed]",
      "text/plain": [
       "<Figure size 432x288 with 1 Axes>"
      ]
     },
     "metadata": {
      "needs_background": "light"
     },
     "output_type": "display_data"
    }
   ],
   "source": [
    "#df['Itemname'].value_counts().plot.bar()\n",
    "df['Itemname'].value_counts().plot()"
   ]
  },
  {
   "cell_type": "markdown",
   "id": "130f3fd4",
   "metadata": {
    "papermill": {
     "duration": 0.01422,
     "end_time": "2022-09-26T16:01:16.838496",
     "exception": false,
     "start_time": "2022-09-26T16:01:16.824276",
     "status": "completed"
    },
    "tags": []
   },
   "source": []
  },
  {
   "cell_type": "markdown",
   "id": "5e8486a3",
   "metadata": {
    "papermill": {
     "duration": 0.012153,
     "end_time": "2022-09-26T16:01:16.863185",
     "exception": false,
     "start_time": "2022-09-26T16:01:16.851032",
     "status": "completed"
    },
    "tags": []
   },
   "source": [
    "**Uma ideia que podemos explorar depois, de um modelo genérico, é ver regras de associação para diferentes países (talvez comparar UK, France e Germany, por conta de volumetria de transações)**"
   ]
  },
  {
   "cell_type": "code",
   "execution_count": 21,
   "id": "2a7f659b",
   "metadata": {
    "execution": {
     "iopub.execute_input": "2022-09-26T16:01:16.889682Z",
     "iopub.status.busy": "2022-09-26T16:01:16.889287Z",
     "iopub.status.idle": "2022-09-26T16:01:18.083597Z",
     "shell.execute_reply": "2022-09-26T16:01:18.082466Z"
    },
    "papermill": {
     "duration": 1.210724,
     "end_time": "2022-09-26T16:01:18.086307",
     "exception": false,
     "start_time": "2022-09-26T16:01:16.875583",
     "status": "completed"
    },
    "tags": []
   },
   "outputs": [
    {
     "data": {
      "text/plain": [
       "BillNo\n",
       "536365     [WHITE HANGING HEART T-LIGHT HOLDER, WHITE MET...\n",
       "536366     [HAND WARMER UNION JACK, HAND WARMER RED POLKA...\n",
       "536367     [ASSORTED COLOUR BIRD ORNAMENT, POPPY'S PLAYHO...\n",
       "536368     [JAM MAKING SET WITH JARS, RED COAT RACK PARIS...\n",
       "536369                            [BATH BUILDING BLOCK WORD]\n",
       "                                 ...                        \n",
       "572057     [TEA TIME OVEN GLOVE, FRYING PAN UNION FLAG, N...\n",
       "572058     [DOOR HANGER  MUM + DADS ROOM, BAKING MOULD CH...\n",
       "A563185                                    [Adjust bad debt]\n",
       "A563186                                    [Adjust bad debt]\n",
       "A563187                                    [Adjust bad debt]\n",
       "Name: Itemname, Length: 19563, dtype: object"
      ]
     },
     "execution_count": 21,
     "metadata": {},
     "output_type": "execute_result"
    }
   ],
   "source": [
    "df.groupby('BillNo')['Itemname'].unique()"
   ]
  },
  {
   "cell_type": "markdown",
   "id": "503cb14c",
   "metadata": {
    "papermill": {
     "duration": 0.012371,
     "end_time": "2022-09-26T16:01:18.111725",
     "exception": false,
     "start_time": "2022-09-26T16:01:18.099354",
     "status": "completed"
    },
    "tags": []
   },
   "source": [
    "## VD vs VI"
   ]
  },
  {
   "cell_type": "markdown",
   "id": "14ea6b7d",
   "metadata": {
    "papermill": {
     "duration": 0.012076,
     "end_time": "2022-09-26T16:01:18.136436",
     "exception": false,
     "start_time": "2022-09-26T16:01:18.124360",
     "status": "completed"
    },
    "tags": []
   },
   "source": [
    "BillNo, Itemname, Quantity, Date, Price, CustomerID, Country, totalvalue"
   ]
  },
  {
   "cell_type": "code",
   "execution_count": null,
   "id": "71d47edd",
   "metadata": {
    "papermill": {
     "duration": 0.012109,
     "end_time": "2022-09-26T16:01:18.160882",
     "exception": false,
     "start_time": "2022-09-26T16:01:18.148773",
     "status": "completed"
    },
    "tags": []
   },
   "outputs": [],
   "source": []
  },
  {
   "cell_type": "markdown",
   "id": "abcfe989",
   "metadata": {
    "papermill": {
     "duration": 0.01219,
     "end_time": "2022-09-26T16:01:18.185656",
     "exception": false,
     "start_time": "2022-09-26T16:01:18.173466",
     "status": "completed"
    },
    "tags": []
   },
   "source": [
    "**Vemos que existem 3 transações que são erros e elas são alfanuméricas. Vamos eliminar as transações que sejam alfanuméricas**"
   ]
  },
  {
   "cell_type": "code",
   "execution_count": 22,
   "id": "823072bd",
   "metadata": {
    "execution": {
     "iopub.execute_input": "2022-09-26T16:01:18.212487Z",
     "iopub.status.busy": "2022-09-26T16:01:18.212080Z",
     "iopub.status.idle": "2022-09-26T16:01:20.063299Z",
     "shell.execute_reply": "2022-09-26T16:01:20.062075Z"
    },
    "papermill": {
     "duration": 1.867893,
     "end_time": "2022-09-26T16:01:20.066015",
     "exception": false,
     "start_time": "2022-09-26T16:01:18.198122",
     "status": "completed"
    },
    "tags": []
   },
   "outputs": [],
   "source": [
    "df_ajustado = df[~(df.BillNo.str.contains('[A-Z]')==True)].groupby('BillNo')['Itemname']\\\n",
    "                        .unique().values"
   ]
  },
  {
   "cell_type": "markdown",
   "id": "f5f35d3e",
   "metadata": {
    "papermill": {
     "duration": 0.012472,
     "end_time": "2022-09-26T16:01:20.091431",
     "exception": false,
     "start_time": "2022-09-26T16:01:20.078959",
     "status": "completed"
    },
    "tags": []
   },
   "source": [
    "### Preparação dos dados para modelos de regras de associação\n",
    "- biblioteca que achei interessante para Python: http://rasbt.github.io/mlxtend/"
   ]
  },
  {
   "cell_type": "code",
   "execution_count": 23,
   "id": "cc05fd37",
   "metadata": {
    "execution": {
     "iopub.execute_input": "2022-09-26T16:01:20.119098Z",
     "iopub.status.busy": "2022-09-26T16:01:20.118674Z",
     "iopub.status.idle": "2022-09-26T16:01:52.160911Z",
     "shell.execute_reply": "2022-09-26T16:01:52.159177Z"
    },
    "papermill": {
     "duration": 32.05956,
     "end_time": "2022-09-26T16:01:52.163724",
     "exception": false,
     "start_time": "2022-09-26T16:01:20.104164",
     "status": "completed"
    },
    "tags": []
   },
   "outputs": [
    {
     "name": "stdout",
     "output_type": "stream",
     "text": [
      "Requirement already satisfied: mlxtend in /opt/conda/lib/python3.7/site-packages (0.20.0)\r\n",
      "Requirement already satisfied: joblib>=0.13.2 in /opt/conda/lib/python3.7/site-packages (from mlxtend) (1.0.1)\r\n",
      "Requirement already satisfied: setuptools in /opt/conda/lib/python3.7/site-packages (from mlxtend) (59.8.0)\r\n",
      "Requirement already satisfied: pandas>=0.24.2 in /opt/conda/lib/python3.7/site-packages (from mlxtend) (1.3.5)\r\n",
      "Requirement already satisfied: numpy>=1.16.2 in /opt/conda/lib/python3.7/site-packages (from mlxtend) (1.21.6)\r\n",
      "Requirement already satisfied: scikit-learn>=1.0.2 in /opt/conda/lib/python3.7/site-packages (from mlxtend) (1.0.2)\r\n",
      "Requirement already satisfied: matplotlib>=3.0.0 in /opt/conda/lib/python3.7/site-packages (from mlxtend) (3.5.3)\r\n",
      "Requirement already satisfied: scipy>=1.2.1 in /opt/conda/lib/python3.7/site-packages (from mlxtend) (1.7.3)\r\n",
      "Requirement already satisfied: kiwisolver>=1.0.1 in /opt/conda/lib/python3.7/site-packages (from matplotlib>=3.0.0->mlxtend) (1.4.3)\r\n",
      "Requirement already satisfied: pillow>=6.2.0 in /opt/conda/lib/python3.7/site-packages (from matplotlib>=3.0.0->mlxtend) (9.1.1)\r\n",
      "Requirement already satisfied: packaging>=20.0 in /opt/conda/lib/python3.7/site-packages (from matplotlib>=3.0.0->mlxtend) (21.3)\r\n",
      "Requirement already satisfied: cycler>=0.10 in /opt/conda/lib/python3.7/site-packages (from matplotlib>=3.0.0->mlxtend) (0.11.0)\r\n",
      "Requirement already satisfied: fonttools>=4.22.0 in /opt/conda/lib/python3.7/site-packages (from matplotlib>=3.0.0->mlxtend) (4.33.3)\r\n",
      "Requirement already satisfied: python-dateutil>=2.7 in /opt/conda/lib/python3.7/site-packages (from matplotlib>=3.0.0->mlxtend) (2.8.2)\r\n",
      "Requirement already satisfied: pyparsing>=2.2.1 in /opt/conda/lib/python3.7/site-packages (from matplotlib>=3.0.0->mlxtend) (3.0.9)\r\n",
      "Requirement already satisfied: pytz>=2017.3 in /opt/conda/lib/python3.7/site-packages (from pandas>=0.24.2->mlxtend) (2022.1)\r\n",
      "Requirement already satisfied: threadpoolctl>=2.0.0 in /opt/conda/lib/python3.7/site-packages (from scikit-learn>=1.0.2->mlxtend) (3.1.0)\r\n",
      "Requirement already satisfied: typing-extensions in /opt/conda/lib/python3.7/site-packages (from kiwisolver>=1.0.1->matplotlib>=3.0.0->mlxtend) (4.3.0)\r\n",
      "Requirement already satisfied: six>=1.5 in /opt/conda/lib/python3.7/site-packages (from python-dateutil>=2.7->matplotlib>=3.0.0->mlxtend) (1.15.0)\r\n",
      "\u001b[33mWARNING: Running pip as the 'root' user can result in broken permissions and conflicting behaviour with the system package manager. It is recommended to use a virtual environment instead: https://pip.pypa.io/warnings/venv\u001b[0m\u001b[33m\r\n",
      "\u001b[0m\u001b[33mWARNING: There was an error checking the latest version of pip.\u001b[0m\u001b[33m\r\n",
      "\u001b[0m"
     ]
    }
   ],
   "source": [
    "!pip install mlxtend"
   ]
  },
  {
   "cell_type": "markdown",
   "id": "965dcc56",
   "metadata": {
    "papermill": {
     "duration": 0.012838,
     "end_time": "2022-09-26T16:01:52.190060",
     "exception": false,
     "start_time": "2022-09-26T16:01:52.177222",
     "status": "completed"
    },
    "tags": []
   },
   "source": [
    "**Precisamos ajustar o dataframe de tal forma que cada linha contenha todos os itens adquiridos na transação**\n",
    "\n",
    "- existem diversas formas de fazer isso, mas como encontrei essa biblioteca mlxtend, basicamente, o que precisamos fazer é criar um dataframe em que cada coluna é um produto e os valores são True ou False, dependendo se a transação contém ou não o item\n",
    "\n",
    "- para fazer esse dataframe, vamos usar do TransactionEncoder()"
   ]
  },
  {
   "cell_type": "code",
   "execution_count": 24,
   "id": "0f24923e",
   "metadata": {
    "execution": {
     "iopub.execute_input": "2022-09-26T16:01:52.218711Z",
     "iopub.status.busy": "2022-09-26T16:01:52.218250Z",
     "iopub.status.idle": "2022-09-26T16:01:53.621139Z",
     "shell.execute_reply": "2022-09-26T16:01:53.620256Z"
    },
    "papermill": {
     "duration": 1.420317,
     "end_time": "2022-09-26T16:01:53.623600",
     "exception": false,
     "start_time": "2022-09-26T16:01:52.203283",
     "status": "completed"
    },
    "tags": []
   },
   "outputs": [],
   "source": [
    "from mlxtend.preprocessing import TransactionEncoder\n",
    "transaction_enc = TransactionEncoder()\n",
    "transaction_enc_array = transaction_enc.fit_transform(df_ajustado)"
   ]
  },
  {
   "cell_type": "code",
   "execution_count": 25,
   "id": "d179b927",
   "metadata": {
    "execution": {
     "iopub.execute_input": "2022-09-26T16:01:53.658335Z",
     "iopub.status.busy": "2022-09-26T16:01:53.657285Z",
     "iopub.status.idle": "2022-09-26T16:01:53.664021Z",
     "shell.execute_reply": "2022-09-26T16:01:53.662944Z"
    },
    "papermill": {
     "duration": 0.023827,
     "end_time": "2022-09-26T16:01:53.666350",
     "exception": false,
     "start_time": "2022-09-26T16:01:53.642523",
     "status": "completed"
    },
    "tags": []
   },
   "outputs": [],
   "source": [
    "df_transactions = pd.DataFrame(transaction_enc_array,columns=transaction_enc.columns_)"
   ]
  },
  {
   "cell_type": "code",
   "execution_count": 26,
   "id": "cbd63843",
   "metadata": {
    "execution": {
     "iopub.execute_input": "2022-09-26T16:01:53.695406Z",
     "iopub.status.busy": "2022-09-26T16:01:53.694989Z",
     "iopub.status.idle": "2022-09-26T16:01:53.733493Z",
     "shell.execute_reply": "2022-09-26T16:01:53.732225Z"
    },
    "papermill": {
     "duration": 0.055876,
     "end_time": "2022-09-26T16:01:53.736049",
     "exception": false,
     "start_time": "2022-09-26T16:01:53.680173",
     "status": "completed"
    },
    "tags": []
   },
   "outputs": [
    {
     "data": {
      "text/html": [
       "<div>\n",
       "<style scoped>\n",
       "    .dataframe tbody tr th:only-of-type {\n",
       "        vertical-align: middle;\n",
       "    }\n",
       "\n",
       "    .dataframe tbody tr th {\n",
       "        vertical-align: top;\n",
       "    }\n",
       "\n",
       "    .dataframe thead th {\n",
       "        text-align: right;\n",
       "    }\n",
       "</style>\n",
       "<table border=\"1\" class=\"dataframe\">\n",
       "  <thead>\n",
       "    <tr style=\"text-align: right;\">\n",
       "      <th></th>\n",
       "      <th>*Boombox Ipod Classic</th>\n",
       "      <th>*USB Office Mirror Ball</th>\n",
       "      <th>10 COLOUR SPACEBOY PEN</th>\n",
       "      <th>12 COLOURED PARTY BALLOONS</th>\n",
       "      <th>12 DAISY PEGS IN WOOD BOX</th>\n",
       "      <th>12 EGG HOUSE PAINTED WOOD</th>\n",
       "      <th>12 HANGING EGGS HAND PAINTED</th>\n",
       "      <th>12 IVORY ROSE PEG PLACE SETTINGS</th>\n",
       "      <th>12 MESSAGE CARDS WITH ENVELOPES</th>\n",
       "      <th>12 PENCIL SMALL TUBE WOODLAND</th>\n",
       "      <th>...</th>\n",
       "      <th>ZINC STAR T-LIGHT HOLDER</th>\n",
       "      <th>ZINC SWEETHEART SOAP DISH</th>\n",
       "      <th>ZINC SWEETHEART WIRE LETTER RACK</th>\n",
       "      <th>ZINC T-LIGHT HOLDER STAR LARGE</th>\n",
       "      <th>ZINC T-LIGHT HOLDER STARS LARGE</th>\n",
       "      <th>ZINC T-LIGHT HOLDER STARS SMALL</th>\n",
       "      <th>ZINC TOP  2 DOOR WOODEN SHELF</th>\n",
       "      <th>ZINC WILLIE WINKIE  CANDLE STICK</th>\n",
       "      <th>ZINC WIRE KITCHEN ORGANISER</th>\n",
       "      <th>ZINC WIRE SWEETHEART LETTER TRAY</th>\n",
       "    </tr>\n",
       "  </thead>\n",
       "  <tbody>\n",
       "    <tr>\n",
       "      <th>0</th>\n",
       "      <td>False</td>\n",
       "      <td>False</td>\n",
       "      <td>False</td>\n",
       "      <td>False</td>\n",
       "      <td>False</td>\n",
       "      <td>False</td>\n",
       "      <td>False</td>\n",
       "      <td>False</td>\n",
       "      <td>False</td>\n",
       "      <td>False</td>\n",
       "      <td>...</td>\n",
       "      <td>False</td>\n",
       "      <td>False</td>\n",
       "      <td>False</td>\n",
       "      <td>False</td>\n",
       "      <td>False</td>\n",
       "      <td>False</td>\n",
       "      <td>False</td>\n",
       "      <td>False</td>\n",
       "      <td>False</td>\n",
       "      <td>False</td>\n",
       "    </tr>\n",
       "    <tr>\n",
       "      <th>1</th>\n",
       "      <td>False</td>\n",
       "      <td>False</td>\n",
       "      <td>False</td>\n",
       "      <td>False</td>\n",
       "      <td>False</td>\n",
       "      <td>False</td>\n",
       "      <td>False</td>\n",
       "      <td>False</td>\n",
       "      <td>False</td>\n",
       "      <td>False</td>\n",
       "      <td>...</td>\n",
       "      <td>False</td>\n",
       "      <td>False</td>\n",
       "      <td>False</td>\n",
       "      <td>False</td>\n",
       "      <td>False</td>\n",
       "      <td>False</td>\n",
       "      <td>False</td>\n",
       "      <td>False</td>\n",
       "      <td>False</td>\n",
       "      <td>False</td>\n",
       "    </tr>\n",
       "    <tr>\n",
       "      <th>2</th>\n",
       "      <td>False</td>\n",
       "      <td>False</td>\n",
       "      <td>False</td>\n",
       "      <td>False</td>\n",
       "      <td>False</td>\n",
       "      <td>False</td>\n",
       "      <td>False</td>\n",
       "      <td>False</td>\n",
       "      <td>False</td>\n",
       "      <td>False</td>\n",
       "      <td>...</td>\n",
       "      <td>False</td>\n",
       "      <td>False</td>\n",
       "      <td>False</td>\n",
       "      <td>False</td>\n",
       "      <td>False</td>\n",
       "      <td>False</td>\n",
       "      <td>False</td>\n",
       "      <td>False</td>\n",
       "      <td>False</td>\n",
       "      <td>False</td>\n",
       "    </tr>\n",
       "    <tr>\n",
       "      <th>3</th>\n",
       "      <td>False</td>\n",
       "      <td>False</td>\n",
       "      <td>False</td>\n",
       "      <td>False</td>\n",
       "      <td>False</td>\n",
       "      <td>False</td>\n",
       "      <td>False</td>\n",
       "      <td>False</td>\n",
       "      <td>False</td>\n",
       "      <td>False</td>\n",
       "      <td>...</td>\n",
       "      <td>False</td>\n",
       "      <td>False</td>\n",
       "      <td>False</td>\n",
       "      <td>False</td>\n",
       "      <td>False</td>\n",
       "      <td>False</td>\n",
       "      <td>False</td>\n",
       "      <td>False</td>\n",
       "      <td>False</td>\n",
       "      <td>False</td>\n",
       "    </tr>\n",
       "    <tr>\n",
       "      <th>4</th>\n",
       "      <td>False</td>\n",
       "      <td>False</td>\n",
       "      <td>False</td>\n",
       "      <td>False</td>\n",
       "      <td>False</td>\n",
       "      <td>False</td>\n",
       "      <td>False</td>\n",
       "      <td>False</td>\n",
       "      <td>False</td>\n",
       "      <td>False</td>\n",
       "      <td>...</td>\n",
       "      <td>False</td>\n",
       "      <td>False</td>\n",
       "      <td>False</td>\n",
       "      <td>False</td>\n",
       "      <td>False</td>\n",
       "      <td>False</td>\n",
       "      <td>False</td>\n",
       "      <td>False</td>\n",
       "      <td>False</td>\n",
       "      <td>False</td>\n",
       "    </tr>\n",
       "    <tr>\n",
       "      <th>...</th>\n",
       "      <td>...</td>\n",
       "      <td>...</td>\n",
       "      <td>...</td>\n",
       "      <td>...</td>\n",
       "      <td>...</td>\n",
       "      <td>...</td>\n",
       "      <td>...</td>\n",
       "      <td>...</td>\n",
       "      <td>...</td>\n",
       "      <td>...</td>\n",
       "      <td>...</td>\n",
       "      <td>...</td>\n",
       "      <td>...</td>\n",
       "      <td>...</td>\n",
       "      <td>...</td>\n",
       "      <td>...</td>\n",
       "      <td>...</td>\n",
       "      <td>...</td>\n",
       "      <td>...</td>\n",
       "      <td>...</td>\n",
       "      <td>...</td>\n",
       "    </tr>\n",
       "    <tr>\n",
       "      <th>19555</th>\n",
       "      <td>False</td>\n",
       "      <td>False</td>\n",
       "      <td>False</td>\n",
       "      <td>False</td>\n",
       "      <td>False</td>\n",
       "      <td>False</td>\n",
       "      <td>False</td>\n",
       "      <td>False</td>\n",
       "      <td>False</td>\n",
       "      <td>False</td>\n",
       "      <td>...</td>\n",
       "      <td>False</td>\n",
       "      <td>False</td>\n",
       "      <td>False</td>\n",
       "      <td>False</td>\n",
       "      <td>False</td>\n",
       "      <td>False</td>\n",
       "      <td>False</td>\n",
       "      <td>False</td>\n",
       "      <td>False</td>\n",
       "      <td>False</td>\n",
       "    </tr>\n",
       "    <tr>\n",
       "      <th>19556</th>\n",
       "      <td>False</td>\n",
       "      <td>False</td>\n",
       "      <td>False</td>\n",
       "      <td>False</td>\n",
       "      <td>False</td>\n",
       "      <td>False</td>\n",
       "      <td>False</td>\n",
       "      <td>False</td>\n",
       "      <td>False</td>\n",
       "      <td>False</td>\n",
       "      <td>...</td>\n",
       "      <td>False</td>\n",
       "      <td>False</td>\n",
       "      <td>False</td>\n",
       "      <td>False</td>\n",
       "      <td>False</td>\n",
       "      <td>False</td>\n",
       "      <td>False</td>\n",
       "      <td>False</td>\n",
       "      <td>False</td>\n",
       "      <td>False</td>\n",
       "    </tr>\n",
       "    <tr>\n",
       "      <th>19557</th>\n",
       "      <td>False</td>\n",
       "      <td>False</td>\n",
       "      <td>False</td>\n",
       "      <td>False</td>\n",
       "      <td>False</td>\n",
       "      <td>False</td>\n",
       "      <td>False</td>\n",
       "      <td>False</td>\n",
       "      <td>False</td>\n",
       "      <td>False</td>\n",
       "      <td>...</td>\n",
       "      <td>False</td>\n",
       "      <td>False</td>\n",
       "      <td>False</td>\n",
       "      <td>False</td>\n",
       "      <td>False</td>\n",
       "      <td>False</td>\n",
       "      <td>False</td>\n",
       "      <td>False</td>\n",
       "      <td>False</td>\n",
       "      <td>False</td>\n",
       "    </tr>\n",
       "    <tr>\n",
       "      <th>19558</th>\n",
       "      <td>False</td>\n",
       "      <td>False</td>\n",
       "      <td>False</td>\n",
       "      <td>False</td>\n",
       "      <td>False</td>\n",
       "      <td>False</td>\n",
       "      <td>False</td>\n",
       "      <td>False</td>\n",
       "      <td>False</td>\n",
       "      <td>False</td>\n",
       "      <td>...</td>\n",
       "      <td>False</td>\n",
       "      <td>False</td>\n",
       "      <td>False</td>\n",
       "      <td>False</td>\n",
       "      <td>False</td>\n",
       "      <td>False</td>\n",
       "      <td>False</td>\n",
       "      <td>False</td>\n",
       "      <td>False</td>\n",
       "      <td>False</td>\n",
       "    </tr>\n",
       "    <tr>\n",
       "      <th>19559</th>\n",
       "      <td>False</td>\n",
       "      <td>False</td>\n",
       "      <td>False</td>\n",
       "      <td>False</td>\n",
       "      <td>False</td>\n",
       "      <td>False</td>\n",
       "      <td>False</td>\n",
       "      <td>False</td>\n",
       "      <td>False</td>\n",
       "      <td>False</td>\n",
       "      <td>...</td>\n",
       "      <td>False</td>\n",
       "      <td>False</td>\n",
       "      <td>False</td>\n",
       "      <td>False</td>\n",
       "      <td>False</td>\n",
       "      <td>False</td>\n",
       "      <td>False</td>\n",
       "      <td>False</td>\n",
       "      <td>False</td>\n",
       "      <td>False</td>\n",
       "    </tr>\n",
       "  </tbody>\n",
       "</table>\n",
       "<p>19560 rows × 4005 columns</p>\n",
       "</div>"
      ],
      "text/plain": [
       "       *Boombox Ipod Classic  *USB Office Mirror Ball  10 COLOUR SPACEBOY PEN  \\\n",
       "0                      False                    False                   False   \n",
       "1                      False                    False                   False   \n",
       "2                      False                    False                   False   \n",
       "3                      False                    False                   False   \n",
       "4                      False                    False                   False   \n",
       "...                      ...                      ...                     ...   \n",
       "19555                  False                    False                   False   \n",
       "19556                  False                    False                   False   \n",
       "19557                  False                    False                   False   \n",
       "19558                  False                    False                   False   \n",
       "19559                  False                    False                   False   \n",
       "\n",
       "       12 COLOURED PARTY BALLOONS  12 DAISY PEGS IN WOOD BOX  \\\n",
       "0                           False                      False   \n",
       "1                           False                      False   \n",
       "2                           False                      False   \n",
       "3                           False                      False   \n",
       "4                           False                      False   \n",
       "...                           ...                        ...   \n",
       "19555                       False                      False   \n",
       "19556                       False                      False   \n",
       "19557                       False                      False   \n",
       "19558                       False                      False   \n",
       "19559                       False                      False   \n",
       "\n",
       "       12 EGG HOUSE PAINTED WOOD  12 HANGING EGGS HAND PAINTED  \\\n",
       "0                          False                         False   \n",
       "1                          False                         False   \n",
       "2                          False                         False   \n",
       "3                          False                         False   \n",
       "4                          False                         False   \n",
       "...                          ...                           ...   \n",
       "19555                      False                         False   \n",
       "19556                      False                         False   \n",
       "19557                      False                         False   \n",
       "19558                      False                         False   \n",
       "19559                      False                         False   \n",
       "\n",
       "       12 IVORY ROSE PEG PLACE SETTINGS  12 MESSAGE CARDS WITH ENVELOPES  \\\n",
       "0                                 False                            False   \n",
       "1                                 False                            False   \n",
       "2                                 False                            False   \n",
       "3                                 False                            False   \n",
       "4                                 False                            False   \n",
       "...                                 ...                              ...   \n",
       "19555                             False                            False   \n",
       "19556                             False                            False   \n",
       "19557                             False                            False   \n",
       "19558                             False                            False   \n",
       "19559                             False                            False   \n",
       "\n",
       "       12 PENCIL SMALL TUBE WOODLAND  ...  ZINC STAR T-LIGHT HOLDER  \\\n",
       "0                              False  ...                     False   \n",
       "1                              False  ...                     False   \n",
       "2                              False  ...                     False   \n",
       "3                              False  ...                     False   \n",
       "4                              False  ...                     False   \n",
       "...                              ...  ...                       ...   \n",
       "19555                          False  ...                     False   \n",
       "19556                          False  ...                     False   \n",
       "19557                          False  ...                     False   \n",
       "19558                          False  ...                     False   \n",
       "19559                          False  ...                     False   \n",
       "\n",
       "       ZINC SWEETHEART SOAP DISH  ZINC SWEETHEART WIRE LETTER RACK  \\\n",
       "0                          False                             False   \n",
       "1                          False                             False   \n",
       "2                          False                             False   \n",
       "3                          False                             False   \n",
       "4                          False                             False   \n",
       "...                          ...                               ...   \n",
       "19555                      False                             False   \n",
       "19556                      False                             False   \n",
       "19557                      False                             False   \n",
       "19558                      False                             False   \n",
       "19559                      False                             False   \n",
       "\n",
       "       ZINC T-LIGHT HOLDER STAR LARGE  ZINC T-LIGHT HOLDER STARS LARGE  \\\n",
       "0                               False                            False   \n",
       "1                               False                            False   \n",
       "2                               False                            False   \n",
       "3                               False                            False   \n",
       "4                               False                            False   \n",
       "...                               ...                              ...   \n",
       "19555                           False                            False   \n",
       "19556                           False                            False   \n",
       "19557                           False                            False   \n",
       "19558                           False                            False   \n",
       "19559                           False                            False   \n",
       "\n",
       "       ZINC T-LIGHT HOLDER STARS SMALL  ZINC TOP  2 DOOR WOODEN SHELF  \\\n",
       "0                                False                          False   \n",
       "1                                False                          False   \n",
       "2                                False                          False   \n",
       "3                                False                          False   \n",
       "4                                False                          False   \n",
       "...                                ...                            ...   \n",
       "19555                            False                          False   \n",
       "19556                            False                          False   \n",
       "19557                            False                          False   \n",
       "19558                            False                          False   \n",
       "19559                            False                          False   \n",
       "\n",
       "       ZINC WILLIE WINKIE  CANDLE STICK  ZINC WIRE KITCHEN ORGANISER  \\\n",
       "0                                 False                        False   \n",
       "1                                 False                        False   \n",
       "2                                 False                        False   \n",
       "3                                 False                        False   \n",
       "4                                 False                        False   \n",
       "...                                 ...                          ...   \n",
       "19555                             False                        False   \n",
       "19556                             False                        False   \n",
       "19557                             False                        False   \n",
       "19558                             False                        False   \n",
       "19559                             False                        False   \n",
       "\n",
       "       ZINC WIRE SWEETHEART LETTER TRAY  \n",
       "0                                 False  \n",
       "1                                 False  \n",
       "2                                 False  \n",
       "3                                 False  \n",
       "4                                 False  \n",
       "...                                 ...  \n",
       "19555                             False  \n",
       "19556                             False  \n",
       "19557                             False  \n",
       "19558                             False  \n",
       "19559                             False  \n",
       "\n",
       "[19560 rows x 4005 columns]"
      ]
     },
     "execution_count": 26,
     "metadata": {},
     "output_type": "execute_result"
    }
   ],
   "source": [
    "df_transactions"
   ]
  },
  {
   "cell_type": "markdown",
   "id": "4aae4981",
   "metadata": {
    "papermill": {
     "duration": 0.013555,
     "end_time": "2022-09-26T16:01:53.763710",
     "exception": false,
     "start_time": "2022-09-26T16:01:53.750155",
     "status": "completed"
    },
    "tags": []
   },
   "source": [
    "### Teste de alguns modelos de regras de associação, verificação de métricas chaves (support, confidence, lift), explorar algumas associações, ver ideias de gráficos que podemos usar..."
   ]
  },
  {
   "cell_type": "code",
   "execution_count": null,
   "id": "e7861d44",
   "metadata": {
    "papermill": {
     "duration": 0.013742,
     "end_time": "2022-09-26T16:01:53.791693",
     "exception": false,
     "start_time": "2022-09-26T16:01:53.777951",
     "status": "completed"
    },
    "tags": []
   },
   "outputs": [],
   "source": []
  }
 ],
 "metadata": {
  "kernelspec": {
   "display_name": "Python 3",
   "language": "python",
   "name": "python3"
  },
  "language_info": {
   "codemirror_mode": {
    "name": "ipython",
    "version": 3
   },
   "file_extension": ".py",
   "mimetype": "text/x-python",
   "name": "python",
   "nbconvert_exporter": "python",
   "pygments_lexer": "ipython3",
   "version": "3.7.12"
  },
  "papermill": {
   "default_parameters": {},
   "duration": 57.935727,
   "end_time": "2022-09-26T16:01:54.628482",
   "environment_variables": {},
   "exception": null,
   "input_path": "__notebook__.ipynb",
   "output_path": "__notebook__.ipynb",
   "parameters": {},
   "start_time": "2022-09-26T16:00:56.692755",
   "version": "2.3.4"
  }
 },
 "nbformat": 4,
 "nbformat_minor": 5
}
